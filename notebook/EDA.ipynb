{
 "cells": [
  {
   "cell_type": "code",
   "execution_count": 99,
   "id": "e5813c4a",
   "metadata": {},
   "outputs": [],
   "source": [
    "import pandas as pd\n",
    "import numpy as np\n",
    "import matplotlib.pyplot as plt\n",
    "import seaborn as sns\n",
    "import os\n"
   ]
  },
  {
   "cell_type": "code",
   "execution_count": 100,
   "id": "e82a09a5",
   "metadata": {},
   "outputs": [
    {
     "data": {
      "text/plain": [
       "'d:\\\\'"
      ]
     },
     "execution_count": 100,
     "metadata": {},
     "output_type": "execute_result"
    }
   ],
   "source": [
    "%pwd"
   ]
  },
  {
   "cell_type": "code",
   "execution_count": 106,
   "id": "e94a415e",
   "metadata": {},
   "outputs": [],
   "source": [
    "os.chdir(\"../\")"
   ]
  },
  {
   "cell_type": "code",
   "execution_count": 105,
   "id": "c5cd21b7",
   "metadata": {},
   "outputs": [
    {
     "data": {
      "text/plain": [
       "'d:\\\\'"
      ]
     },
     "execution_count": 105,
     "metadata": {},
     "output_type": "execute_result"
    }
   ],
   "source": [
    "%pwd"
   ]
  },
  {
   "cell_type": "code",
   "execution_count": 108,
   "id": "1db2beac",
   "metadata": {},
   "outputs": [],
   "source": [
    "import os\n",
    "\n",
    "# Verify and set the correct working directory\n",
    "os.chdir(r\"d:\\VS code Projects\\course recomendation project end-to-end\\Course-Recommendation-Project\")\n",
    "\n",
    "# Provide the absolute path to the file\n",
    "Data_Path = r\"data\\Coursera.csv\"\n",
    "\n",
    "# Load the data\n",
    "data = pd.read_csv(Data_Path)"
   ]
  },
  {
   "cell_type": "code",
   "execution_count": 109,
   "id": "ac06cf3f",
   "metadata": {},
   "outputs": [],
   "source": [
    "Data_Path = \"data\\Coursera.csv\"\n",
    "\n",
    "data = pd.read_csv(Data_Path)"
   ]
  },
  {
   "cell_type": "code",
   "execution_count": 110,
   "id": "bc8884ea",
   "metadata": {},
   "outputs": [
    {
     "data": {
      "application/vnd.microsoft.datawrangler.viewer.v0+json": {
       "columns": [
        {
         "name": "index",
         "rawType": "int64",
         "type": "integer"
        },
        {
         "name": "Course Name",
         "rawType": "object",
         "type": "string"
        },
        {
         "name": "University",
         "rawType": "object",
         "type": "string"
        },
        {
         "name": "Difficulty Level",
         "rawType": "object",
         "type": "string"
        },
        {
         "name": "Course Rating",
         "rawType": "object",
         "type": "string"
        },
        {
         "name": "Course URL",
         "rawType": "object",
         "type": "string"
        },
        {
         "name": "Course Description",
         "rawType": "object",
         "type": "string"
        },
        {
         "name": "Skills",
         "rawType": "object",
         "type": "string"
        }
       ],
       "conversionMethod": "pd.DataFrame",
       "ref": "554fb75b-5bb7-498b-aa1e-ac47fc5f4b83",
       "rows": [
        [
         "0",
         "Write A Feature Length Screenplay For Film Or Television",
         "Michigan State University",
         "Beginner",
         "4.8",
         "https://www.coursera.org/learn/write-a-feature-length-screenplay-for-film-or-television",
         "Write a Full Length Feature Film Script  In this course, you will write a complete, feature-length screenplay for film or television, be it a serious drama or romantic comedy or anything in between. You�ll learn to break down the creative process into components, and you�ll discover a structured process that allows you to produce a polished and pitch-ready script by the end of the course. Completing this project will increase your confidence in your ideas and abilities, and you�ll feel prepared to pitch your first script and get started on your next. This is a course designed to tap into your creativity and is based in \"Active Learning\". Most of the actual learning takes place within your own activities - that is, writing! You will learn by doing.  Here is a link to a TRAILER for the course. To view the trailer, please copy and paste the link into your browser. https://vimeo.com/382067900/b78b800dc0  Learner review: \"Love the approach Professor Wheeler takes towards this course. It's to the point, easy to follow, and very informative! Would definitely recommend it to anyone who is interested in taking a Screenplay Writing course!  The course curriculum is simple: We will adopt a professional writers room process in which you�ll write, post your work for peer review, share feedback with your peers and revise your work with the feedback you receive from your peers. That's how we do it in the real world. You will feel as if you were in a professional writers room yet no prior experience as a writer is required. I'm a proponent of Experiential Learning (Active Learning). My lectures are short (sometimes just two minutes long) and to the point, designed in a step-by-step process essential to your success as a script writer. I will guide you but I won�t \"show\" you how to write. I firmly believe that the only way to become a writer is to write, write, write.  Learner Review: \"I would like to thank this course instructor. It's an amazing course\"  What you�ll need to get started: As mentioned above, no prior script writing experience is required. To begin with, any basic word processor will do. During week two, you can choose to download some free scriptwriting software such as Celtx or Trelby or you may choose to purchase Final Draft, the industry standard, or you can continue to use your word processor and do your own script formatting.   Learner Review: \"Now I am a writer!\"  If you have any concerns regarding the protection of your original work, Coursera's privacy policy protects the learner's IP and you are indeed the sole owners of your work.",
         "Drama  Comedy  peering  screenwriting  film  Document Review  dialogue  creative writing  Writing  unix shells arts-and-humanities music-and-art"
        ],
        [
         "1",
         "Business Strategy: Business Model Canvas Analysis with Miro",
         "Coursera Project Network",
         "Beginner",
         "4.8",
         "https://www.coursera.org/learn/canvas-analysis-miro",
         "By the end of this guided project, you will be fluent in identifying and creating Business Model Canvas solutions based on previous high-level analyses and research data.  This will enable you to identify and map the elements required for new products and services. Furthermore, it is essential for generating positive results for your business venture. This guided project is designed to engage and harness your visionary and exploratory abilities. You will use proven models in strategy and product development with the Miro platform to explore and analyse your business propositions.   We will practice critically examining results from previous analysis and research results in deriving the values for each of the business model sections.",
         "Finance  business plan  persona (user experience)  business model canvas  Planning  Business  project  Product Development  presentation  Strategy business business-strategy"
        ],
        [
         "2",
         "Silicon Thin Film Solar Cells",
         "�cole Polytechnique",
         "Advanced",
         "4.1",
         "https://www.coursera.org/learn/silicon-thin-film-solar-cells",
         "This course consists of a general presentation of solar cells based on silicon thin films.   It is the third MOOC of the photovoltaic series of Ecole polytechnique on Coursera. The general aspects of the photovoltaic field are treated in \"Photovoltaic Solar Energy\". And the detailed description of the crystalline silicon solar cells can be found in \"Physics of Silicon Solar Cells\".  After a brief presentation of solar cells operation, thin film semiconductors are described here. The general properties of disordered and crystalline semiconductors are found very different, in particular in terms of band structure and doping mechanisms. Silicon thin films, generally less than 1 �m thick, are deposited from silane plasma leading to hydrogen incorporation. The growth mechanisms are discussed, in particular the capability to prepare partially crystallized thin films which appear as a mixture of nanocrystallites embedded in an amorphous tissue.  The consequences of the semiconductor properties on solar cells behavior are reviewed. The optical properties of amorphous and nanocrystalline silicon are complementary. Thus the plasma process is particularly well adapted to the preparation of multijunctions, with conversion efficiencies around 13-15 %. Furthermore plasma processes allow to prepare solar cells in large area on glass or flexible substrates.  Finally, it is shown that crystalline and amorphous silicon materials can be combine into heterojunctions solar cells with high efficiency conversion (about 25 %).  **This course is part of a series of 3** Photovoltaic solar energy (https://www.coursera.org/learn/photovoltaic-solar-energy/) Physics of silicon solar cells (https://www.coursera.org/learn/physics-silicon-solar-cells/) Silicon thin film solar cells",
         "chemistry  physics  Solar Energy  film  lambda calculus  Electrical Engineering  electronics  energy  silicon  thinning physical-science-and-engineering electrical-engineering"
        ],
        [
         "3",
         "Finance for Managers",
         "IESE Business School",
         "Intermediate",
         "4.8",
         "https://www.coursera.org/learn/operational-finance",
         "When it comes to numbers, there is always more than meets the eye.  In operational finance, you will learn how to read the �story� that the balance sheet and income statement tells about the company�s operations. The insights you gain from this �financial story� will then become a tool for short-term decision-making at the top management level relating to current assets, current liabilities and the management of working capital. Finally, by the end of the course you will understand the financial consequences of managerial decisions on operations, marketing, etc.",
         "accounts receivable  dupont analysis  analysis  Accounting  Finance  Operations Management  Leadership and Management  balance sheet  inventory  Financial Analysis business finance"
        ],
        [
         "4",
         "Retrieve Data using Single-Table SQL Queries",
         "Coursera Project Network",
         "Beginner",
         "4.6",
         "https://www.coursera.org/learn/single-table-sql-queries",
         "In this course you�ll learn how to effectively retrieve data from a relational database table using the SQL language.   We all know that most computer systems rely on at least one database to store data. Your tax information is stored in the database used by the Internal Revenue Service. Your phone stores your contacts�   names, addresses, email addresses, and phone numbers in a database. If you shop online, you�re viewing photos, descriptions, and prices of products that are stored in a database. Database designers go to great lengths to design databases so that the data can be stored securely and in an organized format. It�s important to note that the main reason they go to all that work is so that we can get the data back out again when we need it! That�s called �data retrieval�.   Data is retrieved or read from a relational database by using a language called SQL to query (or question) the database. SQL is referred to as �the language of relational databases�. It can be used by itself or embedded in programs to retrieve data. Once the data is retrieved, it can be displayed on a web page or PC application, or even printed on paper.   You�ll be practicing writing SQL queries using SQLiteStudio.   Next time you go online and look up the daily special at your favorite restaurant, you can think about the fact that it�s likely that an SQL query was used behind the scenes to fetch that data and pop it up on your screen. By the end of this course, you�ll even have a pretty good idea what the query might have looked like!  Note: This course works best for learners who are based in the North America region. We�re currently working on providing the same experience in other regions.",
         "Data Analysis  select (sql)  database management systems  online shopping  table (database)  data retrieval  Databases  web page  numbers (spreadsheet)  SQL information-technology data-management"
        ]
       ],
       "shape": {
        "columns": 7,
        "rows": 5
       }
      },
      "text/html": [
       "<div>\n",
       "<style scoped>\n",
       "    .dataframe tbody tr th:only-of-type {\n",
       "        vertical-align: middle;\n",
       "    }\n",
       "\n",
       "    .dataframe tbody tr th {\n",
       "        vertical-align: top;\n",
       "    }\n",
       "\n",
       "    .dataframe thead th {\n",
       "        text-align: right;\n",
       "    }\n",
       "</style>\n",
       "<table border=\"1\" class=\"dataframe\">\n",
       "  <thead>\n",
       "    <tr style=\"text-align: right;\">\n",
       "      <th></th>\n",
       "      <th>Course Name</th>\n",
       "      <th>University</th>\n",
       "      <th>Difficulty Level</th>\n",
       "      <th>Course Rating</th>\n",
       "      <th>Course URL</th>\n",
       "      <th>Course Description</th>\n",
       "      <th>Skills</th>\n",
       "    </tr>\n",
       "  </thead>\n",
       "  <tbody>\n",
       "    <tr>\n",
       "      <th>0</th>\n",
       "      <td>Write A Feature Length Screenplay For Film Or ...</td>\n",
       "      <td>Michigan State University</td>\n",
       "      <td>Beginner</td>\n",
       "      <td>4.8</td>\n",
       "      <td>https://www.coursera.org/learn/write-a-feature...</td>\n",
       "      <td>Write a Full Length Feature Film Script  In th...</td>\n",
       "      <td>Drama  Comedy  peering  screenwriting  film  D...</td>\n",
       "    </tr>\n",
       "    <tr>\n",
       "      <th>1</th>\n",
       "      <td>Business Strategy: Business Model Canvas Analy...</td>\n",
       "      <td>Coursera Project Network</td>\n",
       "      <td>Beginner</td>\n",
       "      <td>4.8</td>\n",
       "      <td>https://www.coursera.org/learn/canvas-analysis...</td>\n",
       "      <td>By the end of this guided project, you will be...</td>\n",
       "      <td>Finance  business plan  persona (user experien...</td>\n",
       "    </tr>\n",
       "    <tr>\n",
       "      <th>2</th>\n",
       "      <td>Silicon Thin Film Solar Cells</td>\n",
       "      <td>�cole Polytechnique</td>\n",
       "      <td>Advanced</td>\n",
       "      <td>4.1</td>\n",
       "      <td>https://www.coursera.org/learn/silicon-thin-fi...</td>\n",
       "      <td>This course consists of a general presentation...</td>\n",
       "      <td>chemistry  physics  Solar Energy  film  lambda...</td>\n",
       "    </tr>\n",
       "    <tr>\n",
       "      <th>3</th>\n",
       "      <td>Finance for Managers</td>\n",
       "      <td>IESE Business School</td>\n",
       "      <td>Intermediate</td>\n",
       "      <td>4.8</td>\n",
       "      <td>https://www.coursera.org/learn/operational-fin...</td>\n",
       "      <td>When it comes to numbers, there is always more...</td>\n",
       "      <td>accounts receivable  dupont analysis  analysis...</td>\n",
       "    </tr>\n",
       "    <tr>\n",
       "      <th>4</th>\n",
       "      <td>Retrieve Data using Single-Table SQL Queries</td>\n",
       "      <td>Coursera Project Network</td>\n",
       "      <td>Beginner</td>\n",
       "      <td>4.6</td>\n",
       "      <td>https://www.coursera.org/learn/single-table-sq...</td>\n",
       "      <td>In this course you�ll learn how to effectively...</td>\n",
       "      <td>Data Analysis  select (sql)  database manageme...</td>\n",
       "    </tr>\n",
       "  </tbody>\n",
       "</table>\n",
       "</div>"
      ],
      "text/plain": [
       "                                         Course Name  \\\n",
       "0  Write A Feature Length Screenplay For Film Or ...   \n",
       "1  Business Strategy: Business Model Canvas Analy...   \n",
       "2                      Silicon Thin Film Solar Cells   \n",
       "3                               Finance for Managers   \n",
       "4       Retrieve Data using Single-Table SQL Queries   \n",
       "\n",
       "                  University Difficulty Level Course Rating  \\\n",
       "0  Michigan State University         Beginner           4.8   \n",
       "1   Coursera Project Network         Beginner           4.8   \n",
       "2        �cole Polytechnique         Advanced           4.1   \n",
       "3       IESE Business School     Intermediate           4.8   \n",
       "4   Coursera Project Network         Beginner           4.6   \n",
       "\n",
       "                                          Course URL  \\\n",
       "0  https://www.coursera.org/learn/write-a-feature...   \n",
       "1  https://www.coursera.org/learn/canvas-analysis...   \n",
       "2  https://www.coursera.org/learn/silicon-thin-fi...   \n",
       "3  https://www.coursera.org/learn/operational-fin...   \n",
       "4  https://www.coursera.org/learn/single-table-sq...   \n",
       "\n",
       "                                  Course Description  \\\n",
       "0  Write a Full Length Feature Film Script  In th...   \n",
       "1  By the end of this guided project, you will be...   \n",
       "2  This course consists of a general presentation...   \n",
       "3  When it comes to numbers, there is always more...   \n",
       "4  In this course you�ll learn how to effectively...   \n",
       "\n",
       "                                              Skills  \n",
       "0  Drama  Comedy  peering  screenwriting  film  D...  \n",
       "1  Finance  business plan  persona (user experien...  \n",
       "2  chemistry  physics  Solar Energy  film  lambda...  \n",
       "3  accounts receivable  dupont analysis  analysis...  \n",
       "4  Data Analysis  select (sql)  database manageme...  "
      ]
     },
     "execution_count": 110,
     "metadata": {},
     "output_type": "execute_result"
    }
   ],
   "source": [
    "data.head()"
   ]
  },
  {
   "cell_type": "code",
   "execution_count": 111,
   "id": "883674ea",
   "metadata": {},
   "outputs": [
    {
     "data": {
      "text/plain": [
       "(3522, 7)"
      ]
     },
     "execution_count": 111,
     "metadata": {},
     "output_type": "execute_result"
    }
   ],
   "source": [
    "data.shape"
   ]
  },
  {
   "cell_type": "code",
   "execution_count": 112,
   "id": "101df1a9",
   "metadata": {},
   "outputs": [
    {
     "name": "stdout",
     "output_type": "stream",
     "text": [
      "<class 'pandas.core.frame.DataFrame'>\n",
      "RangeIndex: 3522 entries, 0 to 3521\n",
      "Data columns (total 7 columns):\n",
      " #   Column              Non-Null Count  Dtype \n",
      "---  ------              --------------  ----- \n",
      " 0   Course Name         3522 non-null   object\n",
      " 1   University          3522 non-null   object\n",
      " 2   Difficulty Level    3522 non-null   object\n",
      " 3   Course Rating       3522 non-null   object\n",
      " 4   Course URL          3522 non-null   object\n",
      " 5   Course Description  3522 non-null   object\n",
      " 6   Skills              3522 non-null   object\n",
      "dtypes: object(7)\n",
      "memory usage: 192.7+ KB\n"
     ]
    }
   ],
   "source": [
    "data.info()"
   ]
  },
  {
   "cell_type": "code",
   "execution_count": 113,
   "id": "da9e389b",
   "metadata": {},
   "outputs": [
    {
     "data": {
      "text/plain": [
       "Course Name           0\n",
       "University            0\n",
       "Difficulty Level      0\n",
       "Course Rating         0\n",
       "Course URL            0\n",
       "Course Description    0\n",
       "Skills                0\n",
       "dtype: int64"
      ]
     },
     "execution_count": 113,
     "metadata": {},
     "output_type": "execute_result"
    }
   ],
   "source": [
    "data.isnull().sum()"
   ]
  },
  {
   "cell_type": "code",
   "execution_count": 114,
   "id": "d078a0a5",
   "metadata": {},
   "outputs": [
    {
     "data": {
      "text/plain": [
       "Difficulty Level\n",
       "Beginner          1444\n",
       "Advanced          1005\n",
       "Intermediate       837\n",
       "Conversant         186\n",
       "Not Calibrated      50\n",
       "Name: count, dtype: int64"
      ]
     },
     "execution_count": 114,
     "metadata": {},
     "output_type": "execute_result"
    }
   ],
   "source": [
    "data['Difficulty Level'].value_counts()"
   ]
  },
  {
   "cell_type": "code",
   "execution_count": 115,
   "id": "f765e986",
   "metadata": {},
   "outputs": [
    {
     "data": {
      "text/plain": [
       "Course Rating\n",
       "4.7               740\n",
       "4.6               623\n",
       "4.8               598\n",
       "4.5               389\n",
       "4.4               242\n",
       "4.9               180\n",
       "4.3               165\n",
       "4.2               121\n",
       "5                  90\n",
       "4.1                85\n",
       "Not Calibrated     82\n",
       "4                  51\n",
       "3.8                24\n",
       "3.9                20\n",
       "3.6                18\n",
       "3.7                18\n",
       "3.5                17\n",
       "3.4                13\n",
       "3                  12\n",
       "3.2                 9\n",
       "3.3                 6\n",
       "2.9                 6\n",
       "2.6                 2\n",
       "2.8                 2\n",
       "2.4                 2\n",
       "1                   2\n",
       "2                   1\n",
       "2.5                 1\n",
       "3.1                 1\n",
       "1.9                 1\n",
       "2.3                 1\n",
       "Name: count, dtype: int64"
      ]
     },
     "execution_count": 115,
     "metadata": {},
     "output_type": "execute_result"
    }
   ],
   "source": [
    "data['Course Rating'].value_counts()"
   ]
  },
  {
   "cell_type": "code",
   "execution_count": 116,
   "id": "10a4b64d",
   "metadata": {},
   "outputs": [
    {
     "data": {
      "text/plain": [
       "University\n",
       "Coursera Project Network                      562\n",
       "University of Illinois at Urbana-Champaign    138\n",
       "Johns Hopkins University                      110\n",
       "University of Colorado Boulder                101\n",
       "University of Michigan                        101\n",
       "                                             ... \n",
       "University of Nebraska                          1\n",
       "Pontificia Universidad Cat�lica de Chile        1\n",
       "VMware                                          1\n",
       "E-Learning Development Fund                     1\n",
       "The World Bank Group                            1\n",
       "Name: count, Length: 184, dtype: int64"
      ]
     },
     "execution_count": 116,
     "metadata": {},
     "output_type": "execute_result"
    }
   ],
   "source": [
    "data['University'].value_counts()"
   ]
  },
  {
   "cell_type": "code",
   "execution_count": 117,
   "id": "544b6d38",
   "metadata": {},
   "outputs": [
    {
     "data": {
      "text/plain": [
       "0       Write A Feature Length Screenplay For Film Or ...\n",
       "1       Business Strategy: Business Model Canvas Analy...\n",
       "2                           Silicon Thin Film Solar Cells\n",
       "3                                    Finance for Managers\n",
       "4            Retrieve Data using Single-Table SQL Queries\n",
       "                              ...                        \n",
       "3517    Capstone: Retrieving, Processing, and Visualiz...\n",
       "3518                     Patrick Henry: Forgotten Founder\n",
       "3519    Business intelligence and data analytics: Gene...\n",
       "3520                                  Rigid Body Dynamics\n",
       "3521    Architecting with Google Kubernetes Engine: Pr...\n",
       "Name: Course Name, Length: 3522, dtype: object"
      ]
     },
     "execution_count": 117,
     "metadata": {},
     "output_type": "execute_result"
    }
   ],
   "source": [
    "data['Course Name']"
   ]
  },
  {
   "cell_type": "code",
   "execution_count": 118,
   "id": "d9beb588",
   "metadata": {},
   "outputs": [
    {
     "data": {
      "text/plain": [
       "Index(['Course Name', 'University', 'Difficulty Level', 'Course Rating',\n",
       "       'Course URL', 'Course Description', 'Skills'],\n",
       "      dtype='object')"
      ]
     },
     "execution_count": 118,
     "metadata": {},
     "output_type": "execute_result"
    }
   ],
   "source": [
    "data.columns"
   ]
  },
  {
   "cell_type": "code",
   "execution_count": 119,
   "id": "9b6c47fd",
   "metadata": {},
   "outputs": [
    {
     "data": {
      "application/vnd.microsoft.datawrangler.viewer.v0+json": {
       "columns": [
        {
         "name": "index",
         "rawType": "int64",
         "type": "integer"
        },
        {
         "name": "Course Name",
         "rawType": "object",
         "type": "string"
        },
        {
         "name": "Difficulty Level",
         "rawType": "object",
         "type": "string"
        },
        {
         "name": "Course URL",
         "rawType": "object",
         "type": "string"
        },
        {
         "name": "Course Description",
         "rawType": "object",
         "type": "string"
        },
        {
         "name": "Skills",
         "rawType": "object",
         "type": "string"
        }
       ],
       "conversionMethod": "pd.DataFrame",
       "ref": "3f06d2ec-f358-441d-86d8-8a71666a0749",
       "rows": [
        [
         "0",
         "Write A Feature Length Screenplay For Film Or Television",
         "Beginner",
         "https://www.coursera.org/learn/write-a-feature-length-screenplay-for-film-or-television",
         "Write a Full Length Feature Film Script  In this course, you will write a complete, feature-length screenplay for film or television, be it a serious drama or romantic comedy or anything in between. You�ll learn to break down the creative process into components, and you�ll discover a structured process that allows you to produce a polished and pitch-ready script by the end of the course. Completing this project will increase your confidence in your ideas and abilities, and you�ll feel prepared to pitch your first script and get started on your next. This is a course designed to tap into your creativity and is based in \"Active Learning\". Most of the actual learning takes place within your own activities - that is, writing! You will learn by doing.  Here is a link to a TRAILER for the course. To view the trailer, please copy and paste the link into your browser. https://vimeo.com/382067900/b78b800dc0  Learner review: \"Love the approach Professor Wheeler takes towards this course. It's to the point, easy to follow, and very informative! Would definitely recommend it to anyone who is interested in taking a Screenplay Writing course!  The course curriculum is simple: We will adopt a professional writers room process in which you�ll write, post your work for peer review, share feedback with your peers and revise your work with the feedback you receive from your peers. That's how we do it in the real world. You will feel as if you were in a professional writers room yet no prior experience as a writer is required. I'm a proponent of Experiential Learning (Active Learning). My lectures are short (sometimes just two minutes long) and to the point, designed in a step-by-step process essential to your success as a script writer. I will guide you but I won�t \"show\" you how to write. I firmly believe that the only way to become a writer is to write, write, write.  Learner Review: \"I would like to thank this course instructor. It's an amazing course\"  What you�ll need to get started: As mentioned above, no prior script writing experience is required. To begin with, any basic word processor will do. During week two, you can choose to download some free scriptwriting software such as Celtx or Trelby or you may choose to purchase Final Draft, the industry standard, or you can continue to use your word processor and do your own script formatting.   Learner Review: \"Now I am a writer!\"  If you have any concerns regarding the protection of your original work, Coursera's privacy policy protects the learner's IP and you are indeed the sole owners of your work.",
         "Drama  Comedy  peering  screenwriting  film  Document Review  dialogue  creative writing  Writing  unix shells arts-and-humanities music-and-art"
        ],
        [
         "1",
         "Business Strategy: Business Model Canvas Analysis with Miro",
         "Beginner",
         "https://www.coursera.org/learn/canvas-analysis-miro",
         "By the end of this guided project, you will be fluent in identifying and creating Business Model Canvas solutions based on previous high-level analyses and research data.  This will enable you to identify and map the elements required for new products and services. Furthermore, it is essential for generating positive results for your business venture. This guided project is designed to engage and harness your visionary and exploratory abilities. You will use proven models in strategy and product development with the Miro platform to explore and analyse your business propositions.   We will practice critically examining results from previous analysis and research results in deriving the values for each of the business model sections.",
         "Finance  business plan  persona (user experience)  business model canvas  Planning  Business  project  Product Development  presentation  Strategy business business-strategy"
        ],
        [
         "2",
         "Silicon Thin Film Solar Cells",
         "Advanced",
         "https://www.coursera.org/learn/silicon-thin-film-solar-cells",
         "This course consists of a general presentation of solar cells based on silicon thin films.   It is the third MOOC of the photovoltaic series of Ecole polytechnique on Coursera. The general aspects of the photovoltaic field are treated in \"Photovoltaic Solar Energy\". And the detailed description of the crystalline silicon solar cells can be found in \"Physics of Silicon Solar Cells\".  After a brief presentation of solar cells operation, thin film semiconductors are described here. The general properties of disordered and crystalline semiconductors are found very different, in particular in terms of band structure and doping mechanisms. Silicon thin films, generally less than 1 �m thick, are deposited from silane plasma leading to hydrogen incorporation. The growth mechanisms are discussed, in particular the capability to prepare partially crystallized thin films which appear as a mixture of nanocrystallites embedded in an amorphous tissue.  The consequences of the semiconductor properties on solar cells behavior are reviewed. The optical properties of amorphous and nanocrystalline silicon are complementary. Thus the plasma process is particularly well adapted to the preparation of multijunctions, with conversion efficiencies around 13-15 %. Furthermore plasma processes allow to prepare solar cells in large area on glass or flexible substrates.  Finally, it is shown that crystalline and amorphous silicon materials can be combine into heterojunctions solar cells with high efficiency conversion (about 25 %).  **This course is part of a series of 3** Photovoltaic solar energy (https://www.coursera.org/learn/photovoltaic-solar-energy/) Physics of silicon solar cells (https://www.coursera.org/learn/physics-silicon-solar-cells/) Silicon thin film solar cells",
         "chemistry  physics  Solar Energy  film  lambda calculus  Electrical Engineering  electronics  energy  silicon  thinning physical-science-and-engineering electrical-engineering"
        ],
        [
         "3",
         "Finance for Managers",
         "Intermediate",
         "https://www.coursera.org/learn/operational-finance",
         "When it comes to numbers, there is always more than meets the eye.  In operational finance, you will learn how to read the �story� that the balance sheet and income statement tells about the company�s operations. The insights you gain from this �financial story� will then become a tool for short-term decision-making at the top management level relating to current assets, current liabilities and the management of working capital. Finally, by the end of the course you will understand the financial consequences of managerial decisions on operations, marketing, etc.",
         "accounts receivable  dupont analysis  analysis  Accounting  Finance  Operations Management  Leadership and Management  balance sheet  inventory  Financial Analysis business finance"
        ],
        [
         "4",
         "Retrieve Data using Single-Table SQL Queries",
         "Beginner",
         "https://www.coursera.org/learn/single-table-sql-queries",
         "In this course you�ll learn how to effectively retrieve data from a relational database table using the SQL language.   We all know that most computer systems rely on at least one database to store data. Your tax information is stored in the database used by the Internal Revenue Service. Your phone stores your contacts�   names, addresses, email addresses, and phone numbers in a database. If you shop online, you�re viewing photos, descriptions, and prices of products that are stored in a database. Database designers go to great lengths to design databases so that the data can be stored securely and in an organized format. It�s important to note that the main reason they go to all that work is so that we can get the data back out again when we need it! That�s called �data retrieval�.   Data is retrieved or read from a relational database by using a language called SQL to query (or question) the database. SQL is referred to as �the language of relational databases�. It can be used by itself or embedded in programs to retrieve data. Once the data is retrieved, it can be displayed on a web page or PC application, or even printed on paper.   You�ll be practicing writing SQL queries using SQLiteStudio.   Next time you go online and look up the daily special at your favorite restaurant, you can think about the fact that it�s likely that an SQL query was used behind the scenes to fetch that data and pop it up on your screen. By the end of this course, you�ll even have a pretty good idea what the query might have looked like!  Note: This course works best for learners who are based in the North America region. We�re currently working on providing the same experience in other regions.",
         "Data Analysis  select (sql)  database management systems  online shopping  table (database)  data retrieval  Databases  web page  numbers (spreadsheet)  SQL information-technology data-management"
        ],
        [
         "5",
         "Building Test Automation Framework using Selenium and TestNG",
         "Beginner",
         "https://www.coursera.org/learn/building-test-automation-framework-using-selenium-and-testng",
         "Selenium is one of the most widely used functional UI automation testing tools and TestNG is a brilliant testing framework.  Test automation frameworks are a set of guidelines or rules for writing test cases.  They can reduce maintenance costs and testing efforts and will provide a higher return on investment (ROI) for teams looking to optimize their processes.  Testing guidelines include coding standards, test-data management, defining object repositories, reporting guidelines, and logging strategies.  Through hands-on, practical experience, you will go through concepts writing reusable and structure code which is easy to maintain and understand, creating helper classes or utilities, write effective testcases, and generating reports and logs.",
         "maintenance  test case  test automation  screenshot  project  helper class  selenium  reusability  debugging  php computer-science software-development"
        ],
        [
         "6",
         "Doing Business in China Capstone",
         "Advanced",
         "https://www.coursera.org/learn/doing-business-in-china-capstone",
         "Doing Business in China Capstone enables you to apply your skills to real business challenges. You�ll use your newly earned business skills to identify, explore and evaluate a real opportunity involving products.  In this capstone, you are the business consultant working for a well-established �HON / wellness� company.  The CEO has given you a task.  You have to bring a new overseas product into China.",
         "marketing plan  Planning  Marketing  consumption (economics)  wait (system call)  business plan  strategic planning  audience  project  Writing business business-strategy"
        ],
        [
         "7",
         "Programming Languages, Part A",
         "Intermediate",
         "https://www.coursera.org/learn/programming-languages",
         "This course is an introduction to the basic concepts of programming languages, with a strong emphasis on functional programming. The course uses the languages ML, Racket, and Ruby as vehicles for teaching the concepts, but the real intent is to teach enough about how any language �fits together� to make you more effective programming in any language -- and in learning new ones.  This course is neither particularly theoretical nor just about programming specifics -- it will give you a framework for understanding how to use language constructs effectively and how to design correct and elegant programs. By using different languages, you will learn to think more deeply than in terms of the particular syntax of one language. The emphasis on functional programming is essential for learning how to write robust, reusable, composable, and elegant programs. Indeed, many of the most important ideas in modern languages have their roots in functional programming. Get ready to learn a fresh and beautiful way to look at software and how to have fun building it.  The course assumes some prior experience with programming, as described in more detail in the first module.  The course is divided into three Coursera courses: Part A, Part B, and Part C.  As explained in more detail in the first module of Part A, the overall course is a substantial amount of challenging material, so the three-part format provides two intermediate milestones and opportunities for a pause before continuing.  The three parts are designed to be completed in order and set up to motivate you to continue through to the end of Part C.  The three parts are not quite equal in length: Part A is almost as substantial as Part B and Part C combined.  Week 1 of Part A has a more detailed list of topics for all three parts of the course, but it is expected that most course participants will not (yet!) know what all these topics mean.",
         "inference  ml (programming language)  higher-order function  functional programming  type inference  pattern matching  euler's totient function  language  ?-recursive function  Computer Programming computer-science software-development"
        ],
        [
         "8",
         "The Roles and Responsibilities of Nonprofit Boards of Directors within the Governance Process",
         "Intermediate",
         "https://www.coursera.org/learn/nonprofit-gov-2",
         "This course provides a more in-depth look at the roles and responsibilities of boards of directors in the governance of nonprofit organizations. While the course has been developed with North American culture in mind, we do appreciate that in other parts of the world, the nature of the roles and responsibilities of boards of directors may not be the same. Nevertheless,it is our hope that much of the course content will still be of value to those in other parts of the world.   To learn more about this course, please watch the overview video by copying and pasting the following link into your web browser: https://goo.gl/SXZEZS.  Keywords: Nonprofit; Nonprofit Sector; Voluntary Sector; Nonprofit Organizations, Non-Governmental Organizations, Volunteer Organizations, Leadership, Management, Governance, Board, Board of Directors, Performance, Effectiveness  Course 2 Overview:   Week 1: Some of the questions to be explored this week are: What is the board's role in planning for the organization's future and why is it important for nonprofit organizations to do it? What is strategic planning and what can boards do to carry this out effectively?   Week 2: This week's questions: What is the board's role in assessing the performance of the organization? Why is performance assessment important? Why do many boards have difficulty meeting their performance assessment responsibilities?   Week 3: This week's questions: What are the elements of the fundraising/resource development process? What is the board's role in ensuring the organization has adequate funding? What information should be in a resource development plan?   Week 4: At this stage, you are asked to review the course content, submit a written assignment (known lightheartedly as a BEAR (Board Effectiveness Readiness Assessment), and take two multiple choice Readiness Assurance Tests (known similarly as RATs). One RAT will assess knowledge and reading comprehension and the other will test application of knowledge within a practical case.    Week 5: We will encourage you to discuss the RATs in the discussion forums and take them again should you wish to change any of your answers based on the information exchanged.",
         "Planning  Peer Review  fundraising  strategic planning  resource  concept testing  leadership  measurement  performance  evaluation business leadership-and-management"
        ],
        [
         "9",
         "Business Russian Communication. Part 3",
         "Intermediate",
         "https://www.coursera.org/learn/business-russian-communication-3",
         "Russian is considered to be one of the most difficult languages in the world, and many learners struggle to master its grammar and pronunciation. This course is aimed at those who wants to work in Russia, do business with Russian partners or study on business-related majors in Russian.   In three units of this intensive course learners are going to find out how to discuss terms of cooperationand prices, describe market situation and make a successful presentation of their companies, goods or services. The course is the third part of Business Russian Communication series of courses offered by St Petersburg State University. This part introduces such grammar topics as numerals and nouns in the Genitive case, Genitive case with prepositions, verbs of motion with unpaired prefixes and declension of adjectives. Learners can practice their skills and test themselves in Grammar quiz section. The course provides extensive vocabulary with more than 100 new words and conversational phrases which learners can use in their everyday communication on professional or informal topics. Each unit of the course contains dialogues, which are extremely useful for those who wants to listen to original Russian speech and get used to the pace and intonations of Russian language. Scripts and exercises are provided for all dialogues of the course. In the end of the course learners will have a chance to use the material leant and assess their progress while preparing the Final Assignment. This course is aimed at those who already achieved A2-A2+ level in Russian.",
         "Russian  market (economics)  tax exemption  cooperation  Communication  Taxes  adjective  h.e.a.r.  listening  c dynamic memory allocation language-learning other-languages"
        ]
       ],
       "shape": {
        "columns": 5,
        "rows": 10
       }
      },
      "text/html": [
       "<div>\n",
       "<style scoped>\n",
       "    .dataframe tbody tr th:only-of-type {\n",
       "        vertical-align: middle;\n",
       "    }\n",
       "\n",
       "    .dataframe tbody tr th {\n",
       "        vertical-align: top;\n",
       "    }\n",
       "\n",
       "    .dataframe thead th {\n",
       "        text-align: right;\n",
       "    }\n",
       "</style>\n",
       "<table border=\"1\" class=\"dataframe\">\n",
       "  <thead>\n",
       "    <tr style=\"text-align: right;\">\n",
       "      <th></th>\n",
       "      <th>Course Name</th>\n",
       "      <th>Difficulty Level</th>\n",
       "      <th>Course URL</th>\n",
       "      <th>Course Description</th>\n",
       "      <th>Skills</th>\n",
       "    </tr>\n",
       "  </thead>\n",
       "  <tbody>\n",
       "    <tr>\n",
       "      <th>0</th>\n",
       "      <td>Write A Feature Length Screenplay For Film Or ...</td>\n",
       "      <td>Beginner</td>\n",
       "      <td>https://www.coursera.org/learn/write-a-feature...</td>\n",
       "      <td>Write a Full Length Feature Film Script  In th...</td>\n",
       "      <td>Drama  Comedy  peering  screenwriting  film  D...</td>\n",
       "    </tr>\n",
       "    <tr>\n",
       "      <th>1</th>\n",
       "      <td>Business Strategy: Business Model Canvas Analy...</td>\n",
       "      <td>Beginner</td>\n",
       "      <td>https://www.coursera.org/learn/canvas-analysis...</td>\n",
       "      <td>By the end of this guided project, you will be...</td>\n",
       "      <td>Finance  business plan  persona (user experien...</td>\n",
       "    </tr>\n",
       "    <tr>\n",
       "      <th>2</th>\n",
       "      <td>Silicon Thin Film Solar Cells</td>\n",
       "      <td>Advanced</td>\n",
       "      <td>https://www.coursera.org/learn/silicon-thin-fi...</td>\n",
       "      <td>This course consists of a general presentation...</td>\n",
       "      <td>chemistry  physics  Solar Energy  film  lambda...</td>\n",
       "    </tr>\n",
       "    <tr>\n",
       "      <th>3</th>\n",
       "      <td>Finance for Managers</td>\n",
       "      <td>Intermediate</td>\n",
       "      <td>https://www.coursera.org/learn/operational-fin...</td>\n",
       "      <td>When it comes to numbers, there is always more...</td>\n",
       "      <td>accounts receivable  dupont analysis  analysis...</td>\n",
       "    </tr>\n",
       "    <tr>\n",
       "      <th>4</th>\n",
       "      <td>Retrieve Data using Single-Table SQL Queries</td>\n",
       "      <td>Beginner</td>\n",
       "      <td>https://www.coursera.org/learn/single-table-sq...</td>\n",
       "      <td>In this course you�ll learn how to effectively...</td>\n",
       "      <td>Data Analysis  select (sql)  database manageme...</td>\n",
       "    </tr>\n",
       "    <tr>\n",
       "      <th>5</th>\n",
       "      <td>Building Test Automation Framework using Selen...</td>\n",
       "      <td>Beginner</td>\n",
       "      <td>https://www.coursera.org/learn/building-test-a...</td>\n",
       "      <td>Selenium is one of the most widely used functi...</td>\n",
       "      <td>maintenance  test case  test automation  scree...</td>\n",
       "    </tr>\n",
       "    <tr>\n",
       "      <th>6</th>\n",
       "      <td>Doing Business in China Capstone</td>\n",
       "      <td>Advanced</td>\n",
       "      <td>https://www.coursera.org/learn/doing-business-...</td>\n",
       "      <td>Doing Business in China Capstone enables you t...</td>\n",
       "      <td>marketing plan  Planning  Marketing  consumpti...</td>\n",
       "    </tr>\n",
       "    <tr>\n",
       "      <th>7</th>\n",
       "      <td>Programming Languages, Part A</td>\n",
       "      <td>Intermediate</td>\n",
       "      <td>https://www.coursera.org/learn/programming-lan...</td>\n",
       "      <td>This course is an introduction to the basic co...</td>\n",
       "      <td>inference  ml (programming language)  higher-o...</td>\n",
       "    </tr>\n",
       "    <tr>\n",
       "      <th>8</th>\n",
       "      <td>The Roles and Responsibilities of Nonprofit Bo...</td>\n",
       "      <td>Intermediate</td>\n",
       "      <td>https://www.coursera.org/learn/nonprofit-gov-2</td>\n",
       "      <td>This course provides a more in-depth look at t...</td>\n",
       "      <td>Planning  Peer Review  fundraising  strategic ...</td>\n",
       "    </tr>\n",
       "    <tr>\n",
       "      <th>9</th>\n",
       "      <td>Business Russian Communication. Part 3</td>\n",
       "      <td>Intermediate</td>\n",
       "      <td>https://www.coursera.org/learn/business-russia...</td>\n",
       "      <td>Russian is considered to be one of the most di...</td>\n",
       "      <td>Russian  market (economics)  tax exemption  co...</td>\n",
       "    </tr>\n",
       "  </tbody>\n",
       "</table>\n",
       "</div>"
      ],
      "text/plain": [
       "                                         Course Name Difficulty Level  \\\n",
       "0  Write A Feature Length Screenplay For Film Or ...         Beginner   \n",
       "1  Business Strategy: Business Model Canvas Analy...         Beginner   \n",
       "2                      Silicon Thin Film Solar Cells         Advanced   \n",
       "3                               Finance for Managers     Intermediate   \n",
       "4       Retrieve Data using Single-Table SQL Queries         Beginner   \n",
       "5  Building Test Automation Framework using Selen...         Beginner   \n",
       "6                   Doing Business in China Capstone         Advanced   \n",
       "7                      Programming Languages, Part A     Intermediate   \n",
       "8  The Roles and Responsibilities of Nonprofit Bo...     Intermediate   \n",
       "9             Business Russian Communication. Part 3     Intermediate   \n",
       "\n",
       "                                          Course URL  \\\n",
       "0  https://www.coursera.org/learn/write-a-feature...   \n",
       "1  https://www.coursera.org/learn/canvas-analysis...   \n",
       "2  https://www.coursera.org/learn/silicon-thin-fi...   \n",
       "3  https://www.coursera.org/learn/operational-fin...   \n",
       "4  https://www.coursera.org/learn/single-table-sq...   \n",
       "5  https://www.coursera.org/learn/building-test-a...   \n",
       "6  https://www.coursera.org/learn/doing-business-...   \n",
       "7  https://www.coursera.org/learn/programming-lan...   \n",
       "8     https://www.coursera.org/learn/nonprofit-gov-2   \n",
       "9  https://www.coursera.org/learn/business-russia...   \n",
       "\n",
       "                                  Course Description  \\\n",
       "0  Write a Full Length Feature Film Script  In th...   \n",
       "1  By the end of this guided project, you will be...   \n",
       "2  This course consists of a general presentation...   \n",
       "3  When it comes to numbers, there is always more...   \n",
       "4  In this course you�ll learn how to effectively...   \n",
       "5  Selenium is one of the most widely used functi...   \n",
       "6  Doing Business in China Capstone enables you t...   \n",
       "7  This course is an introduction to the basic co...   \n",
       "8  This course provides a more in-depth look at t...   \n",
       "9  Russian is considered to be one of the most di...   \n",
       "\n",
       "                                              Skills  \n",
       "0  Drama  Comedy  peering  screenwriting  film  D...  \n",
       "1  Finance  business plan  persona (user experien...  \n",
       "2  chemistry  physics  Solar Energy  film  lambda...  \n",
       "3  accounts receivable  dupont analysis  analysis...  \n",
       "4  Data Analysis  select (sql)  database manageme...  \n",
       "5  maintenance  test case  test automation  scree...  \n",
       "6  marketing plan  Planning  Marketing  consumpti...  \n",
       "7  inference  ml (programming language)  higher-o...  \n",
       "8  Planning  Peer Review  fundraising  strategic ...  \n",
       "9  Russian  market (economics)  tax exemption  co...  "
      ]
     },
     "execution_count": 119,
     "metadata": {},
     "output_type": "execute_result"
    }
   ],
   "source": [
    "data = data[['Course Name','Difficulty Level','Course URL', 'Course Description', 'Skills']]\n",
    "data.head(10)"
   ]
  },
  {
   "cell_type": "markdown",
   "id": "02b19c15",
   "metadata": {},
   "source": [
    "## Data Preprocessing"
   ]
  },
  {
   "cell_type": "code",
   "execution_count": 170,
   "id": "f22e92b6",
   "metadata": {},
   "outputs": [],
   "source": [
    "data['Course Name'] = data['Course Name'].str.replace(' ', ',')\n",
    "data['Course Name'] = data['Course Name'].str.replace(':', '')\n",
    "data['Course Name'] = data['Course Name'].str.replace(',,', ',')\n",
    "\n",
    "data['Course Description'] = data['Course Description'].str.replace(' ', ',')\n",
    "data['Course Description'] = data['Course Description'].str.replace(',,', ',')\n",
    "data['Course Description'] = data['Course Description'].str.replace(':', '')\n",
    "data['Course Description'] = data['Course Description'].str.replace('_', '')\n",
    "data['Course Description'] = data['Course Description'].str.replace('(', '')\n",
    "data['Course Description'] = data['Course Description'].str.replace(')', '')\n",
    "\n",
    "data['Skills'] = data['Skills'].str.replace('(', '')\n",
    "data['Skills'] = data['Skills'].str.replace(')', '')"
   ]
  },
  {
   "cell_type": "code",
   "execution_count": 172,
   "id": "5eb2b786",
   "metadata": {},
   "outputs": [
    {
     "data": {
      "application/vnd.microsoft.datawrangler.viewer.v0+json": {
       "columns": [
        {
         "name": "index",
         "rawType": "int64",
         "type": "integer"
        },
        {
         "name": "Course Name",
         "rawType": "object",
         "type": "string"
        },
        {
         "name": "Difficulty Level",
         "rawType": "object",
         "type": "string"
        },
        {
         "name": "Course URL",
         "rawType": "object",
         "type": "string"
        },
        {
         "name": "Course Description",
         "rawType": "object",
         "type": "string"
        },
        {
         "name": "Skills",
         "rawType": "object",
         "type": "string"
        },
        {
         "name": "tags",
         "rawType": "object",
         "type": "string"
        }
       ],
       "conversionMethod": "pd.DataFrame",
       "ref": "0c7a7a91-786f-499c-b59a-43973e21f573",
       "rows": [
        [
         "0",
         "Write,A,Feature,Length,Screenplay,For,Film,Or,Television",
         "Beginner",
         "https://www.coursera.org/learn/write-a-feature-length-screenplay-for-film-or-television",
         "Write,a,Full,Length,Feature,Film,Script,In,this,course,you,will,write,a,complete,feature-length,screenplay,for,film,or,television,be,it,a,serious,drama,or,romantic,comedy,or,anything,in,between.,You�ll,learn,to,break,down,the,creative,process,into,components,and,you�ll,discover,a,structured,process,that,allows,you,to,produce,a,polished,and,pitch-ready,script,by,the,end,of,the,course.,Completing,this,project,will,increase,your,confidence,in,your,ideas,and,abilities,and,you�ll,feel,prepared,to,pitch,your,first,script,and,get,started,on,your,next.,This,is,a,course,designed,to,tap,into,your,creativity,and,is,based,in,\"Active,Learning\".,Most,of,the,actual,learning,takes,place,within,your,own,activities,-,that,is,writing!,You,will,learn,by,doing.,Here,is,a,link,to,a,TRAILER,for,the,course.,To,view,the,trailer,please,copy,and,paste,the,link,into,your,browser.,https//vimeo.com/382067900/b78b800dc0,Learner,review,\"Love,the,approach,Professor,Wheeler,takes,towards,this,course.,It's,to,the,point,easy,to,follow,and,very,informative!,Would,definitely,recommend,it,to,anyone,who,is,interested,in,taking,a,Screenplay,Writing,course!,The,course,curriculum,is,simple,We,will,adopt,a,professional,writers,room,process,in,which,you�ll,write,post,your,work,for,peer,review,share,feedback,with,your,peers,and,revise,your,work,with,the,feedback,you,receive,from,your,peers.,That's,how,we,do,it,in,the,real,world.,You,will,feel,as,if,you,were,in,a,professional,writers,room,yet,no,prior,experience,as,a,writer,is,required.,I'm,a,proponent,of,Experiential,Learning,Active,Learning.,My,lectures,are,short,sometimes,just,two,minutes,long,and,to,the,point,designed,in,a,step-by-step,process,essential,to,your,success,as,a,script,writer.,I,will,guide,you,but,I,won�t,\"show\",you,how,to,write.,I,firmly,believe,that,the,only,way,to,become,a,writer,is,to,write,write,write.,Learner,Review,\"I,would,like,to,thank,this,course,instructor.,It's,an,amazing,course\",What,you�ll,need,to,get,started,As,mentioned,above,no,prior,script,writing,experience,is,required.,To,begin,with,any,basic,word,processor,will,do.,During,week,two,you,can,choose,to,download,some,free,scriptwriting,software,such,as,Celtx,or,Trelby,or,you,may,choose,to,purchase,Final,Draft,the,industry,standard,or,you,can,continue,to,use,your,word,processor,and,do,your,own,script,formatting.,,Learner,Review,\"Now,I,am,a,writer!\",If,you,have,any,concerns,regarding,the,protection,of,your,original,work,Coursera's,privacy,policy,protects,the,learner's,IP,and,you,are,indeed,the,sole,owners,of,your,work.",
         "Drama  Comedy  peering  screenwriting  film  Document Review  dialogue  creative writing  Writing  unix shells arts-and-humanities music-and-art",
         "Write,A,Feature,Length,Screenplay,For,Film,Or,TelevisionBeginnerWrite,a,Full,Length,Feature,Film,Script,,In,this,course,,you,will,write,a,complete,,feature-length,screenplay,for,film,or,television,,be,it,a,serious,drama,or,romantic,comedy,or,anything,in,between.,You�ll,learn,to,break,down,the,creative,process,into,components,,and,you�ll,discover,a,structured,process,that,allows,you,to,produce,a,polished,and,pitch-ready,script,by,the,end,of,the,course.,Completing,this,project,will,increase,your,confidence,in,your,ideas,and,abilities,,and,you�ll,feel,prepared,to,pitch,your,first,script,and,get,started,on,your,next.,This,is,a,course,designed,to,tap,into,your,creativity,and,is,based,in,\"Active,Learning\".,Most,of,the,actual,learning,takes,place,within,your,own,activities,-,that,is,,writing!,You,will,learn,by,doing.,,Here,is,a,link,to,a,TRAILER,for,the,course.,To,view,the,trailer,,please,copy,and,paste,the,link,into,your,browser.,https://vimeo.com/382067900/b78b800dc0,,Learner,review:,\"Love,the,approach,Professor,Wheeler,takes,towards,this,course.,It's,to,the,point,,easy,to,follow,,and,very,informative!,Would,definitely,recommend,it,to,anyone,who,is,interested,in,taking,a,Screenplay,Writing,course!,,The,course,curriculum,is,simple:,We,will,adopt,a,professional,writers,room,process,in,which,you�ll,write,,post,your,work,for,peer,review,,share,feedback,with,your,peers,and,revise,your,work,with,the,feedback,you,receive,from,your,peers.,That's,how,we,do,it,in,the,real,world.,You,will,feel,as,if,you,were,in,a,professional,writers,room,yet,no,prior,experience,as,a,writer,is,required.,I'm,a,proponent,of,Experiential,Learning,Active,Learning.,My,lectures,are,short,sometimes,just,two,minutes,long,and,to,the,point,,designed,in,a,step-by-step,process,essential,to,your,success,as,a,script,writer.,I,will,guide,you,but,I,won�t,\"show\",you,how,to,write.,I,firmly,believe,that,the,only,way,to,become,a,writer,is,to,write,,write,,write.,,Learner,Review:,\"I,would,like,to,thank,this,course,instructor.,It's,an,amazing,course\",,What,you�ll,need,to,get,started:,As,mentioned,above,,no,prior,script,writing,experience,is,required.,To,begin,with,,any,basic,word,processor,will,do.,During,week,two,,you,can,choose,to,download,some,free,scriptwriting,software,such,as,Celtx,or,Trelby,or,you,may,choose,to,purchase,Final,Draft,,the,industry,standard,,or,you,can,continue,to,use,your,word,processor,and,do,your,own,script,formatting.,,,Learner,Review:,\"Now,I,am,a,writer!\",,If,you,have,any,concerns,regarding,the,protection,of,your,original,work,,Coursera's,privacy,policy,protects,the,learner's,IP,and,you,are,indeed,the,sole,owners,of,your,work.Drama  Comedy  peering  screenwriting  film  Document Review  dialogue  creative writing  Writing  unix shells arts-and-humanities music-and-art"
        ],
        [
         "1",
         "Business,Strategy,Business,Model,Canvas,Analysis,with,Miro",
         "Beginner",
         "https://www.coursera.org/learn/canvas-analysis-miro",
         "By,the,end,of,this,guided,project,you,will,be,fluent,in,identifying,and,creating,Business,Model,Canvas,solutions,based,on,previous,high-level,analyses,and,research,data.,This,will,enable,you,to,identify,and,map,the,elements,required,for,new,products,and,services.,Furthermore,it,is,essential,for,generating,positive,results,for,your,business,venture.,This,guided,project,is,designed,to,engage,and,harness,your,visionary,and,exploratory,abilities.,You,will,use,proven,models,in,strategy,and,product,development,with,the,Miro,platform,to,explore,and,analyse,your,business,propositions.,,We,will,practice,critically,examining,results,from,previous,analysis,and,research,results,in,deriving,the,values,for,each,of,the,business,model,sections.",
         "Finance  business plan  persona user experience  business model canvas  Planning  Business  project  Product Development  presentation  Strategy business business-strategy",
         "Business,Strategy,Business,Model,Canvas,Analysis,with,MiroBeginnerBy,the,end,of,this,guided,project,,you,will,be,fluent,in,identifying,and,creating,Business,Model,Canvas,solutions,based,on,previous,high-level,analyses,and,research,data.,,This,will,enable,you,to,identify,and,map,the,elements,required,for,new,products,and,services.,Furthermore,,it,is,essential,for,generating,positive,results,for,your,business,venture.,This,guided,project,is,designed,to,engage,and,harness,your,visionary,and,exploratory,abilities.,You,will,use,proven,models,in,strategy,and,product,development,with,the,Miro,platform,to,explore,and,analyse,your,business,propositions.,,,We,will,practice,critically,examining,results,from,previous,analysis,and,research,results,in,deriving,the,values,for,each,of,the,business,model,sections.Finance  business plan  persona user experience  business model canvas  Planning  Business  project  Product Development  presentation  Strategy business business-strategy"
        ],
        [
         "2",
         "Silicon,Thin,Film,Solar,Cells",
         "Advanced",
         "https://www.coursera.org/learn/silicon-thin-film-solar-cells",
         "This,course,consists,of,a,general,presentation,of,solar,cells,based,on,silicon,thin,films.,,It,is,the,third,MOOC,of,the,photovoltaic,series,of,Ecole,polytechnique,on,Coursera.,The,general,aspects,of,the,photovoltaic,field,are,treated,in,\"Photovoltaic,Solar,Energy\".,And,the,detailed,description,of,the,crystalline,silicon,solar,cells,can,be,found,in,\"Physics,of,Silicon,Solar,Cells\".,After,a,brief,presentation,of,solar,cells,operation,thin,film,semiconductors,are,described,here.,The,general,properties,of,disordered,and,crystalline,semiconductors,are,found,very,different,in,particular,in,terms,of,band,structure,and,doping,mechanisms.,Silicon,thin,films,generally,less,than,1,�m,thick,are,deposited,from,silane,plasma,leading,to,hydrogen,incorporation.,The,growth,mechanisms,are,discussed,in,particular,the,capability,to,prepare,partially,crystallized,thin,films,which,appear,as,a,mixture,of,nanocrystallites,embedded,in,an,amorphous,tissue.,The,consequences,of,the,semiconductor,properties,on,solar,cells,behavior,are,reviewed.,The,optical,properties,of,amorphous,and,nanocrystalline,silicon,are,complementary.,Thus,the,plasma,process,is,particularly,well,adapted,to,the,preparation,of,multijunctions,with,conversion,efficiencies,around,13-15,%.,Furthermore,plasma,processes,allow,to,prepare,solar,cells,in,large,area,on,glass,or,flexible,substrates.,Finally,it,is,shown,that,crystalline,and,amorphous,silicon,materials,can,be,combine,into,heterojunctions,solar,cells,with,high,efficiency,conversion,about,25,%.,**This,course,is,part,of,a,series,of,3**,Photovoltaic,solar,energy,https//www.coursera.org/learn/photovoltaic-solar-energy/,Physics,of,silicon,solar,cells,https//www.coursera.org/learn/physics-silicon-solar-cells/,Silicon,thin,film,solar,cells",
         "chemistry  physics  Solar Energy  film  lambda calculus  Electrical Engineering  electronics  energy  silicon  thinning physical-science-and-engineering electrical-engineering",
         "Silicon,Thin,Film,Solar,CellsAdvancedThis,course,consists,of,a,general,presentation,of,solar,cells,based,on,silicon,thin,films.,,,It,is,the,third,MOOC,of,the,photovoltaic,series,of,Ecole,polytechnique,on,Coursera.,The,general,aspects,of,the,photovoltaic,field,are,treated,in,\"Photovoltaic,Solar,Energy\".,And,the,detailed,description,of,the,crystalline,silicon,solar,cells,can,be,found,in,\"Physics,of,Silicon,Solar,Cells\".,,After,a,brief,presentation,of,solar,cells,operation,,thin,film,semiconductors,are,described,here.,The,general,properties,of,disordered,and,crystalline,semiconductors,are,found,very,different,,in,particular,in,terms,of,band,structure,and,doping,mechanisms.,Silicon,thin,films,,generally,less,than,1,�m,thick,,are,deposited,from,silane,plasma,leading,to,hydrogen,incorporation.,The,growth,mechanisms,are,discussed,,in,particular,the,capability,to,prepare,partially,crystallized,thin,films,which,appear,as,a,mixture,of,nanocrystallites,embedded,in,an,amorphous,tissue.,,The,consequences,of,the,semiconductor,properties,on,solar,cells,behavior,are,reviewed.,The,optical,properties,of,amorphous,and,nanocrystalline,silicon,are,complementary.,Thus,the,plasma,process,is,particularly,well,adapted,to,the,preparation,of,multijunctions,,with,conversion,efficiencies,around,13-15,%.,Furthermore,plasma,processes,allow,to,prepare,solar,cells,in,large,area,on,glass,or,flexible,substrates.,,Finally,,it,is,shown,that,crystalline,and,amorphous,silicon,materials,can,be,combine,into,heterojunctions,solar,cells,with,high,efficiency,conversion,about,25,%.,,**This,course,is,part,of,a,series,of,3**,Photovoltaic,solar,energy,https://www.coursera.org/learn/photovoltaic-solar-energy/,Physics,of,silicon,solar,cells,https://www.coursera.org/learn/physics-silicon-solar-cells/,Silicon,thin,film,solar,cellschemistry  physics  Solar Energy  film  lambda calculus  Electrical Engineering  electronics  energy  silicon  thinning physical-science-and-engineering electrical-engineering"
        ],
        [
         "3",
         "Finance,for,Managers",
         "Intermediate",
         "https://www.coursera.org/learn/operational-finance",
         "When,it,comes,to,numbers,there,is,always,more,than,meets,the,eye.,In,operational,finance,you,will,learn,how,to,read,the,�story�,that,the,balance,sheet,and,income,statement,tells,about,the,company�s,operations.,The,insights,you,gain,from,this,�financial,story�,will,then,become,a,tool,for,short-term,decision-making,at,the,top,management,level,relating,to,current,assets,current,liabilities,and,the,management,of,working,capital.,Finally,by,the,end,of,the,course,you,will,understand,the,financial,consequences,of,managerial,decisions,on,operations,marketing,etc.",
         "accounts receivable  dupont analysis  analysis  Accounting  Finance  Operations Management  Leadership and Management  balance sheet  inventory  Financial Analysis business finance",
         "Finance,for,ManagersIntermediateWhen,it,comes,to,numbers,,there,is,always,more,than,meets,the,eye.,,In,operational,finance,,you,will,learn,how,to,read,the,�story�,that,the,balance,sheet,and,income,statement,tells,about,the,company�s,operations.,The,insights,you,gain,from,this,�financial,story�,will,then,become,a,tool,for,short-term,decision-making,at,the,top,management,level,relating,to,current,assets,,current,liabilities,and,the,management,of,working,capital.,Finally,,by,the,end,of,the,course,you,will,understand,the,financial,consequences,of,managerial,decisions,on,operations,,marketing,,etc.accounts receivable  dupont analysis  analysis  Accounting  Finance  Operations Management  Leadership and Management  balance sheet  inventory  Financial Analysis business finance"
        ],
        [
         "4",
         "Retrieve,Data,using,Single-Table,SQL,Queries",
         "Beginner",
         "https://www.coursera.org/learn/single-table-sql-queries",
         "In,this,course,you�ll,learn,how,to,effectively,retrieve,data,from,a,relational,database,table,using,the,SQL,language.,,We,all,know,that,most,computer,systems,rely,on,at,least,one,database,to,store,data.,Your,tax,information,is,stored,in,the,database,used,by,the,Internal,Revenue,Service.,Your,phone,stores,your,contacts�,,names,addresses,email,addresses,and,phone,numbers,in,a,database.,If,you,shop,online,you�re,viewing,photos,descriptions,and,prices,of,products,that,are,stored,in,a,database.,Database,designers,go,to,great,lengths,to,design,databases,so,that,the,data,can,be,stored,securely,and,in,an,organized,format.,It�s,important,to,note,that,the,main,reason,they,go,to,all,that,work,is,so,that,we,can,get,the,data,back,out,again,when,we,need,it!,That�s,called,�data,retrieval�.,,Data,is,retrieved,or,read,from,a,relational,database,by,using,a,language,called,SQL,to,query,or,question,the,database.,SQL,is,referred,to,as,�the,language,of,relational,databases�.,It,can,be,used,by,itself,or,embedded,in,programs,to,retrieve,data.,Once,the,data,is,retrieved,it,can,be,displayed,on,a,web,page,or,PC,application,or,even,printed,on,paper.,,You�ll,be,practicing,writing,SQL,queries,using,SQLiteStudio.,,Next,time,you,go,online,and,look,up,the,daily,special,at,your,favorite,restaurant,you,can,think,about,the,fact,that,it�s,likely,that,an,SQL,query,was,used,behind,the,scenes,to,fetch,that,data,and,pop,it,up,on,your,screen.,By,the,end,of,this,course,you�ll,even,have,a,pretty,good,idea,what,the,query,might,have,looked,like!,Note,This,course,works,best,for,learners,who,are,based,in,the,North,America,region.,We�re,currently,working,on,providing,the,same,experience,in,other,regions.",
         "Data Analysis  select sql  database management systems  online shopping  table database  data retrieval  Databases  web page  numbers spreadsheet  SQL information-technology data-management",
         "Retrieve,Data,using,Single-Table,SQL,QueriesBeginnerIn,this,course,you�ll,learn,how,to,effectively,retrieve,data,from,a,relational,database,table,using,the,SQL,language.,,,We,all,know,that,most,computer,systems,rely,on,at,least,one,database,to,store,data.,Your,tax,information,is,stored,in,the,database,used,by,the,Internal,Revenue,Service.,Your,phone,stores,your,contacts�,,,names,,addresses,,email,addresses,,and,phone,numbers,in,a,database.,If,you,shop,online,,you�re,viewing,photos,,descriptions,,and,prices,of,products,that,are,stored,in,a,database.,Database,designers,go,to,great,lengths,to,design,databases,so,that,the,data,can,be,stored,securely,and,in,an,organized,format.,It�s,important,to,note,that,the,main,reason,they,go,to,all,that,work,is,so,that,we,can,get,the,data,back,out,again,when,we,need,it!,That�s,called,�data,retrieval�.,,,Data,is,retrieved,or,read,from,a,relational,database,by,using,a,language,called,SQL,to,query,or,question,the,database.,SQL,is,referred,to,as,�the,language,of,relational,databases�.,It,can,be,used,by,itself,or,embedded,in,programs,to,retrieve,data.,Once,the,data,is,retrieved,,it,can,be,displayed,on,a,web,page,or,PC,application,,or,even,printed,on,paper.,,,You�ll,be,practicing,writing,SQL,queries,using,SQLiteStudio.,,,Next,time,you,go,online,and,look,up,the,daily,special,at,your,favorite,restaurant,,you,can,think,about,the,fact,that,it�s,likely,that,an,SQL,query,was,used,behind,the,scenes,to,fetch,that,data,and,pop,it,up,on,your,screen.,By,the,end,of,this,course,,you�ll,even,have,a,pretty,good,idea,what,the,query,might,have,looked,like!,,Note:,This,course,works,best,for,learners,who,are,based,in,the,North,America,region.,We�re,currently,working,on,providing,the,same,experience,in,other,regions.Data Analysis  select sql  database management systems  online shopping  table database  data retrieval  Databases  web page  numbers spreadsheet  SQL information-technology data-management"
        ]
       ],
       "shape": {
        "columns": 6,
        "rows": 5
       }
      },
      "text/html": [
       "<div>\n",
       "<style scoped>\n",
       "    .dataframe tbody tr th:only-of-type {\n",
       "        vertical-align: middle;\n",
       "    }\n",
       "\n",
       "    .dataframe tbody tr th {\n",
       "        vertical-align: top;\n",
       "    }\n",
       "\n",
       "    .dataframe thead th {\n",
       "        text-align: right;\n",
       "    }\n",
       "</style>\n",
       "<table border=\"1\" class=\"dataframe\">\n",
       "  <thead>\n",
       "    <tr style=\"text-align: right;\">\n",
       "      <th></th>\n",
       "      <th>Course Name</th>\n",
       "      <th>Difficulty Level</th>\n",
       "      <th>Course URL</th>\n",
       "      <th>Course Description</th>\n",
       "      <th>Skills</th>\n",
       "      <th>tags</th>\n",
       "    </tr>\n",
       "  </thead>\n",
       "  <tbody>\n",
       "    <tr>\n",
       "      <th>0</th>\n",
       "      <td>Write,A,Feature,Length,Screenplay,For,Film,Or,...</td>\n",
       "      <td>Beginner</td>\n",
       "      <td>https://www.coursera.org/learn/write-a-feature...</td>\n",
       "      <td>Write,a,Full,Length,Feature,Film,Script,In,thi...</td>\n",
       "      <td>Drama  Comedy  peering  screenwriting  film  D...</td>\n",
       "      <td>Write,A,Feature,Length,Screenplay,For,Film,Or,...</td>\n",
       "    </tr>\n",
       "    <tr>\n",
       "      <th>1</th>\n",
       "      <td>Business,Strategy,Business,Model,Canvas,Analys...</td>\n",
       "      <td>Beginner</td>\n",
       "      <td>https://www.coursera.org/learn/canvas-analysis...</td>\n",
       "      <td>By,the,end,of,this,guided,project,you,will,be,...</td>\n",
       "      <td>Finance  business plan  persona user experienc...</td>\n",
       "      <td>Business,Strategy,Business,Model,Canvas,Analys...</td>\n",
       "    </tr>\n",
       "    <tr>\n",
       "      <th>2</th>\n",
       "      <td>Silicon,Thin,Film,Solar,Cells</td>\n",
       "      <td>Advanced</td>\n",
       "      <td>https://www.coursera.org/learn/silicon-thin-fi...</td>\n",
       "      <td>This,course,consists,of,a,general,presentation...</td>\n",
       "      <td>chemistry  physics  Solar Energy  film  lambda...</td>\n",
       "      <td>Silicon,Thin,Film,Solar,CellsAdvancedThis,cour...</td>\n",
       "    </tr>\n",
       "    <tr>\n",
       "      <th>3</th>\n",
       "      <td>Finance,for,Managers</td>\n",
       "      <td>Intermediate</td>\n",
       "      <td>https://www.coursera.org/learn/operational-fin...</td>\n",
       "      <td>When,it,comes,to,numbers,there,is,always,more,...</td>\n",
       "      <td>accounts receivable  dupont analysis  analysis...</td>\n",
       "      <td>Finance,for,ManagersIntermediateWhen,it,comes,...</td>\n",
       "    </tr>\n",
       "    <tr>\n",
       "      <th>4</th>\n",
       "      <td>Retrieve,Data,using,Single-Table,SQL,Queries</td>\n",
       "      <td>Beginner</td>\n",
       "      <td>https://www.coursera.org/learn/single-table-sq...</td>\n",
       "      <td>In,this,course,you�ll,learn,how,to,effectively...</td>\n",
       "      <td>Data Analysis  select sql  database management...</td>\n",
       "      <td>Retrieve,Data,using,Single-Table,SQL,QueriesBe...</td>\n",
       "    </tr>\n",
       "  </tbody>\n",
       "</table>\n",
       "</div>"
      ],
      "text/plain": [
       "                                         Course Name Difficulty Level  \\\n",
       "0  Write,A,Feature,Length,Screenplay,For,Film,Or,...         Beginner   \n",
       "1  Business,Strategy,Business,Model,Canvas,Analys...         Beginner   \n",
       "2                      Silicon,Thin,Film,Solar,Cells         Advanced   \n",
       "3                               Finance,for,Managers     Intermediate   \n",
       "4       Retrieve,Data,using,Single-Table,SQL,Queries         Beginner   \n",
       "\n",
       "                                          Course URL  \\\n",
       "0  https://www.coursera.org/learn/write-a-feature...   \n",
       "1  https://www.coursera.org/learn/canvas-analysis...   \n",
       "2  https://www.coursera.org/learn/silicon-thin-fi...   \n",
       "3  https://www.coursera.org/learn/operational-fin...   \n",
       "4  https://www.coursera.org/learn/single-table-sq...   \n",
       "\n",
       "                                  Course Description  \\\n",
       "0  Write,a,Full,Length,Feature,Film,Script,In,thi...   \n",
       "1  By,the,end,of,this,guided,project,you,will,be,...   \n",
       "2  This,course,consists,of,a,general,presentation...   \n",
       "3  When,it,comes,to,numbers,there,is,always,more,...   \n",
       "4  In,this,course,you�ll,learn,how,to,effectively...   \n",
       "\n",
       "                                              Skills  \\\n",
       "0  Drama  Comedy  peering  screenwriting  film  D...   \n",
       "1  Finance  business plan  persona user experienc...   \n",
       "2  chemistry  physics  Solar Energy  film  lambda...   \n",
       "3  accounts receivable  dupont analysis  analysis...   \n",
       "4  Data Analysis  select sql  database management...   \n",
       "\n",
       "                                                tags  \n",
       "0  Write,A,Feature,Length,Screenplay,For,Film,Or,...  \n",
       "1  Business,Strategy,Business,Model,Canvas,Analys...  \n",
       "2  Silicon,Thin,Film,Solar,CellsAdvancedThis,cour...  \n",
       "3  Finance,for,ManagersIntermediateWhen,it,comes,...  \n",
       "4  Retrieve,Data,using,Single-Table,SQL,QueriesBe...  "
      ]
     },
     "execution_count": 172,
     "metadata": {},
     "output_type": "execute_result"
    }
   ],
   "source": [
    "data.head()"
   ]
  },
  {
   "cell_type": "code",
   "execution_count": 173,
   "id": "d90b08cd",
   "metadata": {},
   "outputs": [
    {
     "data": {
      "text/plain": [
       "Index(['Course Name', 'Difficulty Level', 'Course URL', 'Course Description',\n",
       "       'Skills', 'tags'],\n",
       "      dtype='object')"
      ]
     },
     "execution_count": 173,
     "metadata": {},
     "output_type": "execute_result"
    }
   ],
   "source": [
    "data.columns"
   ]
  },
  {
   "cell_type": "code",
   "execution_count": 174,
   "id": "0103a544",
   "metadata": {},
   "outputs": [],
   "source": [
    "data['tags'] = data['Course Name'] + data['Difficulty Level'] + data['Course Description'] + data['Skills']"
   ]
  },
  {
   "cell_type": "code",
   "execution_count": 175,
   "id": "f6d99e6e",
   "metadata": {},
   "outputs": [
    {
     "data": {
      "application/vnd.microsoft.datawrangler.viewer.v0+json": {
       "columns": [
        {
         "name": "index",
         "rawType": "int64",
         "type": "integer"
        },
        {
         "name": "Course Name",
         "rawType": "object",
         "type": "string"
        },
        {
         "name": "Difficulty Level",
         "rawType": "object",
         "type": "string"
        },
        {
         "name": "Course URL",
         "rawType": "object",
         "type": "string"
        },
        {
         "name": "Course Description",
         "rawType": "object",
         "type": "string"
        },
        {
         "name": "Skills",
         "rawType": "object",
         "type": "string"
        },
        {
         "name": "tags",
         "rawType": "object",
         "type": "string"
        }
       ],
       "conversionMethod": "pd.DataFrame",
       "ref": "a50d71d0-f6b4-4c40-9e1d-191b6f06ec1c",
       "rows": [
        [
         "0",
         "Write,A,Feature,Length,Screenplay,For,Film,Or,Television",
         "Beginner",
         "https://www.coursera.org/learn/write-a-feature-length-screenplay-for-film-or-television",
         "Write,a,Full,Length,Feature,Film,Script,In,this,course,you,will,write,a,complete,feature-length,screenplay,for,film,or,television,be,it,a,serious,drama,or,romantic,comedy,or,anything,in,between.,You�ll,learn,to,break,down,the,creative,process,into,components,and,you�ll,discover,a,structured,process,that,allows,you,to,produce,a,polished,and,pitch-ready,script,by,the,end,of,the,course.,Completing,this,project,will,increase,your,confidence,in,your,ideas,and,abilities,and,you�ll,feel,prepared,to,pitch,your,first,script,and,get,started,on,your,next.,This,is,a,course,designed,to,tap,into,your,creativity,and,is,based,in,\"Active,Learning\".,Most,of,the,actual,learning,takes,place,within,your,own,activities,-,that,is,writing!,You,will,learn,by,doing.,Here,is,a,link,to,a,TRAILER,for,the,course.,To,view,the,trailer,please,copy,and,paste,the,link,into,your,browser.,https//vimeo.com/382067900/b78b800dc0,Learner,review,\"Love,the,approach,Professor,Wheeler,takes,towards,this,course.,It's,to,the,point,easy,to,follow,and,very,informative!,Would,definitely,recommend,it,to,anyone,who,is,interested,in,taking,a,Screenplay,Writing,course!,The,course,curriculum,is,simple,We,will,adopt,a,professional,writers,room,process,in,which,you�ll,write,post,your,work,for,peer,review,share,feedback,with,your,peers,and,revise,your,work,with,the,feedback,you,receive,from,your,peers.,That's,how,we,do,it,in,the,real,world.,You,will,feel,as,if,you,were,in,a,professional,writers,room,yet,no,prior,experience,as,a,writer,is,required.,I'm,a,proponent,of,Experiential,Learning,Active,Learning.,My,lectures,are,short,sometimes,just,two,minutes,long,and,to,the,point,designed,in,a,step-by-step,process,essential,to,your,success,as,a,script,writer.,I,will,guide,you,but,I,won�t,\"show\",you,how,to,write.,I,firmly,believe,that,the,only,way,to,become,a,writer,is,to,write,write,write.,Learner,Review,\"I,would,like,to,thank,this,course,instructor.,It's,an,amazing,course\",What,you�ll,need,to,get,started,As,mentioned,above,no,prior,script,writing,experience,is,required.,To,begin,with,any,basic,word,processor,will,do.,During,week,two,you,can,choose,to,download,some,free,scriptwriting,software,such,as,Celtx,or,Trelby,or,you,may,choose,to,purchase,Final,Draft,the,industry,standard,or,you,can,continue,to,use,your,word,processor,and,do,your,own,script,formatting.,,Learner,Review,\"Now,I,am,a,writer!\",If,you,have,any,concerns,regarding,the,protection,of,your,original,work,Coursera's,privacy,policy,protects,the,learner's,IP,and,you,are,indeed,the,sole,owners,of,your,work.",
         "Drama  Comedy  peering  screenwriting  film  Document Review  dialogue  creative writing  Writing  unix shells arts-and-humanities music-and-art",
         "Write,A,Feature,Length,Screenplay,For,Film,Or,TelevisionBeginnerWrite,a,Full,Length,Feature,Film,Script,In,this,course,you,will,write,a,complete,feature-length,screenplay,for,film,or,television,be,it,a,serious,drama,or,romantic,comedy,or,anything,in,between.,You�ll,learn,to,break,down,the,creative,process,into,components,and,you�ll,discover,a,structured,process,that,allows,you,to,produce,a,polished,and,pitch-ready,script,by,the,end,of,the,course.,Completing,this,project,will,increase,your,confidence,in,your,ideas,and,abilities,and,you�ll,feel,prepared,to,pitch,your,first,script,and,get,started,on,your,next.,This,is,a,course,designed,to,tap,into,your,creativity,and,is,based,in,\"Active,Learning\".,Most,of,the,actual,learning,takes,place,within,your,own,activities,-,that,is,writing!,You,will,learn,by,doing.,Here,is,a,link,to,a,TRAILER,for,the,course.,To,view,the,trailer,please,copy,and,paste,the,link,into,your,browser.,https//vimeo.com/382067900/b78b800dc0,Learner,review,\"Love,the,approach,Professor,Wheeler,takes,towards,this,course.,It's,to,the,point,easy,to,follow,and,very,informative!,Would,definitely,recommend,it,to,anyone,who,is,interested,in,taking,a,Screenplay,Writing,course!,The,course,curriculum,is,simple,We,will,adopt,a,professional,writers,room,process,in,which,you�ll,write,post,your,work,for,peer,review,share,feedback,with,your,peers,and,revise,your,work,with,the,feedback,you,receive,from,your,peers.,That's,how,we,do,it,in,the,real,world.,You,will,feel,as,if,you,were,in,a,professional,writers,room,yet,no,prior,experience,as,a,writer,is,required.,I'm,a,proponent,of,Experiential,Learning,Active,Learning.,My,lectures,are,short,sometimes,just,two,minutes,long,and,to,the,point,designed,in,a,step-by-step,process,essential,to,your,success,as,a,script,writer.,I,will,guide,you,but,I,won�t,\"show\",you,how,to,write.,I,firmly,believe,that,the,only,way,to,become,a,writer,is,to,write,write,write.,Learner,Review,\"I,would,like,to,thank,this,course,instructor.,It's,an,amazing,course\",What,you�ll,need,to,get,started,As,mentioned,above,no,prior,script,writing,experience,is,required.,To,begin,with,any,basic,word,processor,will,do.,During,week,two,you,can,choose,to,download,some,free,scriptwriting,software,such,as,Celtx,or,Trelby,or,you,may,choose,to,purchase,Final,Draft,the,industry,standard,or,you,can,continue,to,use,your,word,processor,and,do,your,own,script,formatting.,,Learner,Review,\"Now,I,am,a,writer!\",If,you,have,any,concerns,regarding,the,protection,of,your,original,work,Coursera's,privacy,policy,protects,the,learner's,IP,and,you,are,indeed,the,sole,owners,of,your,work.Drama  Comedy  peering  screenwriting  film  Document Review  dialogue  creative writing  Writing  unix shells arts-and-humanities music-and-art"
        ],
        [
         "1",
         "Business,Strategy,Business,Model,Canvas,Analysis,with,Miro",
         "Beginner",
         "https://www.coursera.org/learn/canvas-analysis-miro",
         "By,the,end,of,this,guided,project,you,will,be,fluent,in,identifying,and,creating,Business,Model,Canvas,solutions,based,on,previous,high-level,analyses,and,research,data.,This,will,enable,you,to,identify,and,map,the,elements,required,for,new,products,and,services.,Furthermore,it,is,essential,for,generating,positive,results,for,your,business,venture.,This,guided,project,is,designed,to,engage,and,harness,your,visionary,and,exploratory,abilities.,You,will,use,proven,models,in,strategy,and,product,development,with,the,Miro,platform,to,explore,and,analyse,your,business,propositions.,,We,will,practice,critically,examining,results,from,previous,analysis,and,research,results,in,deriving,the,values,for,each,of,the,business,model,sections.",
         "Finance  business plan  persona user experience  business model canvas  Planning  Business  project  Product Development  presentation  Strategy business business-strategy",
         "Business,Strategy,Business,Model,Canvas,Analysis,with,MiroBeginnerBy,the,end,of,this,guided,project,you,will,be,fluent,in,identifying,and,creating,Business,Model,Canvas,solutions,based,on,previous,high-level,analyses,and,research,data.,This,will,enable,you,to,identify,and,map,the,elements,required,for,new,products,and,services.,Furthermore,it,is,essential,for,generating,positive,results,for,your,business,venture.,This,guided,project,is,designed,to,engage,and,harness,your,visionary,and,exploratory,abilities.,You,will,use,proven,models,in,strategy,and,product,development,with,the,Miro,platform,to,explore,and,analyse,your,business,propositions.,,We,will,practice,critically,examining,results,from,previous,analysis,and,research,results,in,deriving,the,values,for,each,of,the,business,model,sections.Finance  business plan  persona user experience  business model canvas  Planning  Business  project  Product Development  presentation  Strategy business business-strategy"
        ],
        [
         "2",
         "Silicon,Thin,Film,Solar,Cells",
         "Advanced",
         "https://www.coursera.org/learn/silicon-thin-film-solar-cells",
         "This,course,consists,of,a,general,presentation,of,solar,cells,based,on,silicon,thin,films.,,It,is,the,third,MOOC,of,the,photovoltaic,series,of,Ecole,polytechnique,on,Coursera.,The,general,aspects,of,the,photovoltaic,field,are,treated,in,\"Photovoltaic,Solar,Energy\".,And,the,detailed,description,of,the,crystalline,silicon,solar,cells,can,be,found,in,\"Physics,of,Silicon,Solar,Cells\".,After,a,brief,presentation,of,solar,cells,operation,thin,film,semiconductors,are,described,here.,The,general,properties,of,disordered,and,crystalline,semiconductors,are,found,very,different,in,particular,in,terms,of,band,structure,and,doping,mechanisms.,Silicon,thin,films,generally,less,than,1,�m,thick,are,deposited,from,silane,plasma,leading,to,hydrogen,incorporation.,The,growth,mechanisms,are,discussed,in,particular,the,capability,to,prepare,partially,crystallized,thin,films,which,appear,as,a,mixture,of,nanocrystallites,embedded,in,an,amorphous,tissue.,The,consequences,of,the,semiconductor,properties,on,solar,cells,behavior,are,reviewed.,The,optical,properties,of,amorphous,and,nanocrystalline,silicon,are,complementary.,Thus,the,plasma,process,is,particularly,well,adapted,to,the,preparation,of,multijunctions,with,conversion,efficiencies,around,13-15,%.,Furthermore,plasma,processes,allow,to,prepare,solar,cells,in,large,area,on,glass,or,flexible,substrates.,Finally,it,is,shown,that,crystalline,and,amorphous,silicon,materials,can,be,combine,into,heterojunctions,solar,cells,with,high,efficiency,conversion,about,25,%.,**This,course,is,part,of,a,series,of,3**,Photovoltaic,solar,energy,https//www.coursera.org/learn/photovoltaic-solar-energy/,Physics,of,silicon,solar,cells,https//www.coursera.org/learn/physics-silicon-solar-cells/,Silicon,thin,film,solar,cells",
         "chemistry  physics  Solar Energy  film  lambda calculus  Electrical Engineering  electronics  energy  silicon  thinning physical-science-and-engineering electrical-engineering",
         "Silicon,Thin,Film,Solar,CellsAdvancedThis,course,consists,of,a,general,presentation,of,solar,cells,based,on,silicon,thin,films.,,It,is,the,third,MOOC,of,the,photovoltaic,series,of,Ecole,polytechnique,on,Coursera.,The,general,aspects,of,the,photovoltaic,field,are,treated,in,\"Photovoltaic,Solar,Energy\".,And,the,detailed,description,of,the,crystalline,silicon,solar,cells,can,be,found,in,\"Physics,of,Silicon,Solar,Cells\".,After,a,brief,presentation,of,solar,cells,operation,thin,film,semiconductors,are,described,here.,The,general,properties,of,disordered,and,crystalline,semiconductors,are,found,very,different,in,particular,in,terms,of,band,structure,and,doping,mechanisms.,Silicon,thin,films,generally,less,than,1,�m,thick,are,deposited,from,silane,plasma,leading,to,hydrogen,incorporation.,The,growth,mechanisms,are,discussed,in,particular,the,capability,to,prepare,partially,crystallized,thin,films,which,appear,as,a,mixture,of,nanocrystallites,embedded,in,an,amorphous,tissue.,The,consequences,of,the,semiconductor,properties,on,solar,cells,behavior,are,reviewed.,The,optical,properties,of,amorphous,and,nanocrystalline,silicon,are,complementary.,Thus,the,plasma,process,is,particularly,well,adapted,to,the,preparation,of,multijunctions,with,conversion,efficiencies,around,13-15,%.,Furthermore,plasma,processes,allow,to,prepare,solar,cells,in,large,area,on,glass,or,flexible,substrates.,Finally,it,is,shown,that,crystalline,and,amorphous,silicon,materials,can,be,combine,into,heterojunctions,solar,cells,with,high,efficiency,conversion,about,25,%.,**This,course,is,part,of,a,series,of,3**,Photovoltaic,solar,energy,https//www.coursera.org/learn/photovoltaic-solar-energy/,Physics,of,silicon,solar,cells,https//www.coursera.org/learn/physics-silicon-solar-cells/,Silicon,thin,film,solar,cellschemistry  physics  Solar Energy  film  lambda calculus  Electrical Engineering  electronics  energy  silicon  thinning physical-science-and-engineering electrical-engineering"
        ],
        [
         "3",
         "Finance,for,Managers",
         "Intermediate",
         "https://www.coursera.org/learn/operational-finance",
         "When,it,comes,to,numbers,there,is,always,more,than,meets,the,eye.,In,operational,finance,you,will,learn,how,to,read,the,�story�,that,the,balance,sheet,and,income,statement,tells,about,the,company�s,operations.,The,insights,you,gain,from,this,�financial,story�,will,then,become,a,tool,for,short-term,decision-making,at,the,top,management,level,relating,to,current,assets,current,liabilities,and,the,management,of,working,capital.,Finally,by,the,end,of,the,course,you,will,understand,the,financial,consequences,of,managerial,decisions,on,operations,marketing,etc.",
         "accounts receivable  dupont analysis  analysis  Accounting  Finance  Operations Management  Leadership and Management  balance sheet  inventory  Financial Analysis business finance",
         "Finance,for,ManagersIntermediateWhen,it,comes,to,numbers,there,is,always,more,than,meets,the,eye.,In,operational,finance,you,will,learn,how,to,read,the,�story�,that,the,balance,sheet,and,income,statement,tells,about,the,company�s,operations.,The,insights,you,gain,from,this,�financial,story�,will,then,become,a,tool,for,short-term,decision-making,at,the,top,management,level,relating,to,current,assets,current,liabilities,and,the,management,of,working,capital.,Finally,by,the,end,of,the,course,you,will,understand,the,financial,consequences,of,managerial,decisions,on,operations,marketing,etc.accounts receivable  dupont analysis  analysis  Accounting  Finance  Operations Management  Leadership and Management  balance sheet  inventory  Financial Analysis business finance"
        ],
        [
         "4",
         "Retrieve,Data,using,Single-Table,SQL,Queries",
         "Beginner",
         "https://www.coursera.org/learn/single-table-sql-queries",
         "In,this,course,you�ll,learn,how,to,effectively,retrieve,data,from,a,relational,database,table,using,the,SQL,language.,,We,all,know,that,most,computer,systems,rely,on,at,least,one,database,to,store,data.,Your,tax,information,is,stored,in,the,database,used,by,the,Internal,Revenue,Service.,Your,phone,stores,your,contacts�,,names,addresses,email,addresses,and,phone,numbers,in,a,database.,If,you,shop,online,you�re,viewing,photos,descriptions,and,prices,of,products,that,are,stored,in,a,database.,Database,designers,go,to,great,lengths,to,design,databases,so,that,the,data,can,be,stored,securely,and,in,an,organized,format.,It�s,important,to,note,that,the,main,reason,they,go,to,all,that,work,is,so,that,we,can,get,the,data,back,out,again,when,we,need,it!,That�s,called,�data,retrieval�.,,Data,is,retrieved,or,read,from,a,relational,database,by,using,a,language,called,SQL,to,query,or,question,the,database.,SQL,is,referred,to,as,�the,language,of,relational,databases�.,It,can,be,used,by,itself,or,embedded,in,programs,to,retrieve,data.,Once,the,data,is,retrieved,it,can,be,displayed,on,a,web,page,or,PC,application,or,even,printed,on,paper.,,You�ll,be,practicing,writing,SQL,queries,using,SQLiteStudio.,,Next,time,you,go,online,and,look,up,the,daily,special,at,your,favorite,restaurant,you,can,think,about,the,fact,that,it�s,likely,that,an,SQL,query,was,used,behind,the,scenes,to,fetch,that,data,and,pop,it,up,on,your,screen.,By,the,end,of,this,course,you�ll,even,have,a,pretty,good,idea,what,the,query,might,have,looked,like!,Note,This,course,works,best,for,learners,who,are,based,in,the,North,America,region.,We�re,currently,working,on,providing,the,same,experience,in,other,regions.",
         "Data Analysis  select sql  database management systems  online shopping  table database  data retrieval  Databases  web page  numbers spreadsheet  SQL information-technology data-management",
         "Retrieve,Data,using,Single-Table,SQL,QueriesBeginnerIn,this,course,you�ll,learn,how,to,effectively,retrieve,data,from,a,relational,database,table,using,the,SQL,language.,,We,all,know,that,most,computer,systems,rely,on,at,least,one,database,to,store,data.,Your,tax,information,is,stored,in,the,database,used,by,the,Internal,Revenue,Service.,Your,phone,stores,your,contacts�,,names,addresses,email,addresses,and,phone,numbers,in,a,database.,If,you,shop,online,you�re,viewing,photos,descriptions,and,prices,of,products,that,are,stored,in,a,database.,Database,designers,go,to,great,lengths,to,design,databases,so,that,the,data,can,be,stored,securely,and,in,an,organized,format.,It�s,important,to,note,that,the,main,reason,they,go,to,all,that,work,is,so,that,we,can,get,the,data,back,out,again,when,we,need,it!,That�s,called,�data,retrieval�.,,Data,is,retrieved,or,read,from,a,relational,database,by,using,a,language,called,SQL,to,query,or,question,the,database.,SQL,is,referred,to,as,�the,language,of,relational,databases�.,It,can,be,used,by,itself,or,embedded,in,programs,to,retrieve,data.,Once,the,data,is,retrieved,it,can,be,displayed,on,a,web,page,or,PC,application,or,even,printed,on,paper.,,You�ll,be,practicing,writing,SQL,queries,using,SQLiteStudio.,,Next,time,you,go,online,and,look,up,the,daily,special,at,your,favorite,restaurant,you,can,think,about,the,fact,that,it�s,likely,that,an,SQL,query,was,used,behind,the,scenes,to,fetch,that,data,and,pop,it,up,on,your,screen.,By,the,end,of,this,course,you�ll,even,have,a,pretty,good,idea,what,the,query,might,have,looked,like!,Note,This,course,works,best,for,learners,who,are,based,in,the,North,America,region.,We�re,currently,working,on,providing,the,same,experience,in,other,regions.Data Analysis  select sql  database management systems  online shopping  table database  data retrieval  Databases  web page  numbers spreadsheet  SQL information-technology data-management"
        ]
       ],
       "shape": {
        "columns": 6,
        "rows": 5
       }
      },
      "text/html": [
       "<div>\n",
       "<style scoped>\n",
       "    .dataframe tbody tr th:only-of-type {\n",
       "        vertical-align: middle;\n",
       "    }\n",
       "\n",
       "    .dataframe tbody tr th {\n",
       "        vertical-align: top;\n",
       "    }\n",
       "\n",
       "    .dataframe thead th {\n",
       "        text-align: right;\n",
       "    }\n",
       "</style>\n",
       "<table border=\"1\" class=\"dataframe\">\n",
       "  <thead>\n",
       "    <tr style=\"text-align: right;\">\n",
       "      <th></th>\n",
       "      <th>Course Name</th>\n",
       "      <th>Difficulty Level</th>\n",
       "      <th>Course URL</th>\n",
       "      <th>Course Description</th>\n",
       "      <th>Skills</th>\n",
       "      <th>tags</th>\n",
       "    </tr>\n",
       "  </thead>\n",
       "  <tbody>\n",
       "    <tr>\n",
       "      <th>0</th>\n",
       "      <td>Write,A,Feature,Length,Screenplay,For,Film,Or,...</td>\n",
       "      <td>Beginner</td>\n",
       "      <td>https://www.coursera.org/learn/write-a-feature...</td>\n",
       "      <td>Write,a,Full,Length,Feature,Film,Script,In,thi...</td>\n",
       "      <td>Drama  Comedy  peering  screenwriting  film  D...</td>\n",
       "      <td>Write,A,Feature,Length,Screenplay,For,Film,Or,...</td>\n",
       "    </tr>\n",
       "    <tr>\n",
       "      <th>1</th>\n",
       "      <td>Business,Strategy,Business,Model,Canvas,Analys...</td>\n",
       "      <td>Beginner</td>\n",
       "      <td>https://www.coursera.org/learn/canvas-analysis...</td>\n",
       "      <td>By,the,end,of,this,guided,project,you,will,be,...</td>\n",
       "      <td>Finance  business plan  persona user experienc...</td>\n",
       "      <td>Business,Strategy,Business,Model,Canvas,Analys...</td>\n",
       "    </tr>\n",
       "    <tr>\n",
       "      <th>2</th>\n",
       "      <td>Silicon,Thin,Film,Solar,Cells</td>\n",
       "      <td>Advanced</td>\n",
       "      <td>https://www.coursera.org/learn/silicon-thin-fi...</td>\n",
       "      <td>This,course,consists,of,a,general,presentation...</td>\n",
       "      <td>chemistry  physics  Solar Energy  film  lambda...</td>\n",
       "      <td>Silicon,Thin,Film,Solar,CellsAdvancedThis,cour...</td>\n",
       "    </tr>\n",
       "    <tr>\n",
       "      <th>3</th>\n",
       "      <td>Finance,for,Managers</td>\n",
       "      <td>Intermediate</td>\n",
       "      <td>https://www.coursera.org/learn/operational-fin...</td>\n",
       "      <td>When,it,comes,to,numbers,there,is,always,more,...</td>\n",
       "      <td>accounts receivable  dupont analysis  analysis...</td>\n",
       "      <td>Finance,for,ManagersIntermediateWhen,it,comes,...</td>\n",
       "    </tr>\n",
       "    <tr>\n",
       "      <th>4</th>\n",
       "      <td>Retrieve,Data,using,Single-Table,SQL,Queries</td>\n",
       "      <td>Beginner</td>\n",
       "      <td>https://www.coursera.org/learn/single-table-sq...</td>\n",
       "      <td>In,this,course,you�ll,learn,how,to,effectively...</td>\n",
       "      <td>Data Analysis  select sql  database management...</td>\n",
       "      <td>Retrieve,Data,using,Single-Table,SQL,QueriesBe...</td>\n",
       "    </tr>\n",
       "  </tbody>\n",
       "</table>\n",
       "</div>"
      ],
      "text/plain": [
       "                                         Course Name Difficulty Level  \\\n",
       "0  Write,A,Feature,Length,Screenplay,For,Film,Or,...         Beginner   \n",
       "1  Business,Strategy,Business,Model,Canvas,Analys...         Beginner   \n",
       "2                      Silicon,Thin,Film,Solar,Cells         Advanced   \n",
       "3                               Finance,for,Managers     Intermediate   \n",
       "4       Retrieve,Data,using,Single-Table,SQL,Queries         Beginner   \n",
       "\n",
       "                                          Course URL  \\\n",
       "0  https://www.coursera.org/learn/write-a-feature...   \n",
       "1  https://www.coursera.org/learn/canvas-analysis...   \n",
       "2  https://www.coursera.org/learn/silicon-thin-fi...   \n",
       "3  https://www.coursera.org/learn/operational-fin...   \n",
       "4  https://www.coursera.org/learn/single-table-sq...   \n",
       "\n",
       "                                  Course Description  \\\n",
       "0  Write,a,Full,Length,Feature,Film,Script,In,thi...   \n",
       "1  By,the,end,of,this,guided,project,you,will,be,...   \n",
       "2  This,course,consists,of,a,general,presentation...   \n",
       "3  When,it,comes,to,numbers,there,is,always,more,...   \n",
       "4  In,this,course,you�ll,learn,how,to,effectively...   \n",
       "\n",
       "                                              Skills  \\\n",
       "0  Drama  Comedy  peering  screenwriting  film  D...   \n",
       "1  Finance  business plan  persona user experienc...   \n",
       "2  chemistry  physics  Solar Energy  film  lambda...   \n",
       "3  accounts receivable  dupont analysis  analysis...   \n",
       "4  Data Analysis  select sql  database management...   \n",
       "\n",
       "                                                tags  \n",
       "0  Write,A,Feature,Length,Screenplay,For,Film,Or,...  \n",
       "1  Business,Strategy,Business,Model,Canvas,Analys...  \n",
       "2  Silicon,Thin,Film,Solar,CellsAdvancedThis,cour...  \n",
       "3  Finance,for,ManagersIntermediateWhen,it,comes,...  \n",
       "4  Retrieve,Data,using,Single-Table,SQL,QueriesBe...  "
      ]
     },
     "execution_count": 175,
     "metadata": {},
     "output_type": "execute_result"
    }
   ],
   "source": [
    "data.head()"
   ]
  },
  {
   "cell_type": "code",
   "execution_count": 176,
   "id": "84182048",
   "metadata": {},
   "outputs": [
    {
     "data": {
      "text/plain": [
       "'Write,A,Feature,Length,Screenplay,For,Film,Or,TelevisionBeginnerWrite,a,Full,Length,Feature,Film,Script,In,this,course,you,will,write,a,complete,feature-length,screenplay,for,film,or,television,be,it,a,serious,drama,or,romantic,comedy,or,anything,in,between.,You�ll,learn,to,break,down,the,creative,process,into,components,and,you�ll,discover,a,structured,process,that,allows,you,to,produce,a,polished,and,pitch-ready,script,by,the,end,of,the,course.,Completing,this,project,will,increase,your,confidence,in,your,ideas,and,abilities,and,you�ll,feel,prepared,to,pitch,your,first,script,and,get,started,on,your,next.,This,is,a,course,designed,to,tap,into,your,creativity,and,is,based,in,\"Active,Learning\".,Most,of,the,actual,learning,takes,place,within,your,own,activities,-,that,is,writing!,You,will,learn,by,doing.,Here,is,a,link,to,a,TRAILER,for,the,course.,To,view,the,trailer,please,copy,and,paste,the,link,into,your,browser.,https//vimeo.com/382067900/b78b800dc0,Learner,review,\"Love,the,approach,Professor,Wheeler,takes,towards,this,course.,It\\'s,to,the,point,easy,to,follow,and,very,informative!,Would,definitely,recommend,it,to,anyone,who,is,interested,in,taking,a,Screenplay,Writing,course!,The,course,curriculum,is,simple,We,will,adopt,a,professional,writers,room,process,in,which,you�ll,write,post,your,work,for,peer,review,share,feedback,with,your,peers,and,revise,your,work,with,the,feedback,you,receive,from,your,peers.,That\\'s,how,we,do,it,in,the,real,world.,You,will,feel,as,if,you,were,in,a,professional,writers,room,yet,no,prior,experience,as,a,writer,is,required.,I\\'m,a,proponent,of,Experiential,Learning,Active,Learning.,My,lectures,are,short,sometimes,just,two,minutes,long,and,to,the,point,designed,in,a,step-by-step,process,essential,to,your,success,as,a,script,writer.,I,will,guide,you,but,I,won�t,\"show\",you,how,to,write.,I,firmly,believe,that,the,only,way,to,become,a,writer,is,to,write,write,write.,Learner,Review,\"I,would,like,to,thank,this,course,instructor.,It\\'s,an,amazing,course\",What,you�ll,need,to,get,started,As,mentioned,above,no,prior,script,writing,experience,is,required.,To,begin,with,any,basic,word,processor,will,do.,During,week,two,you,can,choose,to,download,some,free,scriptwriting,software,such,as,Celtx,or,Trelby,or,you,may,choose,to,purchase,Final,Draft,the,industry,standard,or,you,can,continue,to,use,your,word,processor,and,do,your,own,script,formatting.,,Learner,Review,\"Now,I,am,a,writer!\",If,you,have,any,concerns,regarding,the,protection,of,your,original,work,Coursera\\'s,privacy,policy,protects,the,learner\\'s,IP,and,you,are,indeed,the,sole,owners,of,your,work.Drama  Comedy  peering  screenwriting  film  Document Review  dialogue  creative writing  Writing  unix shells arts-and-humanities music-and-art'"
      ]
     },
     "execution_count": 176,
     "metadata": {},
     "output_type": "execute_result"
    }
   ],
   "source": [
    "data['tags'].iloc[0]"
   ]
  },
  {
   "cell_type": "code",
   "execution_count": 177,
   "id": "6c5186f7",
   "metadata": {},
   "outputs": [],
   "source": [
    "new_df = data[['Course Name', 'Course URL','tags']]"
   ]
  },
  {
   "cell_type": "code",
   "execution_count": 178,
   "id": "29493ca1",
   "metadata": {},
   "outputs": [
    {
     "name": "stderr",
     "output_type": "stream",
     "text": [
      "C:\\Users\\anoop\\AppData\\Local\\Temp\\ipykernel_13276\\1395081966.py:1: SettingWithCopyWarning: \n",
      "A value is trying to be set on a copy of a slice from a DataFrame.\n",
      "Try using .loc[row_indexer,col_indexer] = value instead\n",
      "\n",
      "See the caveats in the documentation: https://pandas.pydata.org/pandas-docs/stable/user_guide/indexing.html#returning-a-view-versus-a-copy\n",
      "  new_df['Course Name'] = data['Course Name'].str.replace(',',' ')\n"
     ]
    }
   ],
   "source": [
    "new_df['Course Name'] = data['Course Name'].str.replace(',',' ')"
   ]
  },
  {
   "cell_type": "code",
   "execution_count": 179,
   "id": "3d8740cd",
   "metadata": {},
   "outputs": [
    {
     "name": "stderr",
     "output_type": "stream",
     "text": [
      "C:\\Users\\anoop\\AppData\\Local\\Temp\\ipykernel_13276\\2056998804.py:1: SettingWithCopyWarning: \n",
      "A value is trying to be set on a copy of a slice from a DataFrame\n",
      "\n",
      "See the caveats in the documentation: https://pandas.pydata.org/pandas-docs/stable/user_guide/indexing.html#returning-a-view-versus-a-copy\n",
      "  new_df.rename(columns= {'Course Name':'course_name', 'Course URL': 'course_url'}, inplace = True)\n"
     ]
    }
   ],
   "source": [
    "new_df.rename(columns= {'Course Name':'course_name', 'Course URL': 'course_url'}, inplace = True)"
   ]
  },
  {
   "cell_type": "code",
   "execution_count": 180,
   "id": "4b1282a9",
   "metadata": {},
   "outputs": [
    {
     "name": "stderr",
     "output_type": "stream",
     "text": [
      "C:\\Users\\anoop\\AppData\\Local\\Temp\\ipykernel_13276\\3214958533.py:1: SettingWithCopyWarning: \n",
      "A value is trying to be set on a copy of a slice from a DataFrame.\n",
      "Try using .loc[row_indexer,col_indexer] = value instead\n",
      "\n",
      "See the caveats in the documentation: https://pandas.pydata.org/pandas-docs/stable/user_guide/indexing.html#returning-a-view-versus-a-copy\n",
      "  new_df['tags'] = new_df['tags'].apply(lambda x:x.lower())\n"
     ]
    }
   ],
   "source": [
    "new_df['tags'] = new_df['tags'].apply(lambda x:x.lower())"
   ]
  },
  {
   "cell_type": "code",
   "execution_count": 181,
   "id": "841ca23b",
   "metadata": {},
   "outputs": [
    {
     "data": {
      "application/vnd.microsoft.datawrangler.viewer.v0+json": {
       "columns": [
        {
         "name": "index",
         "rawType": "int64",
         "type": "integer"
        },
        {
         "name": "course_name",
         "rawType": "object",
         "type": "string"
        },
        {
         "name": "course_url",
         "rawType": "object",
         "type": "string"
        },
        {
         "name": "tags",
         "rawType": "object",
         "type": "string"
        }
       ],
       "conversionMethod": "pd.DataFrame",
       "ref": "9c7adfe2-42ef-4371-bd29-c2f6d352df2c",
       "rows": [
        [
         "0",
         "Write A Feature Length Screenplay For Film Or Television",
         "https://www.coursera.org/learn/write-a-feature-length-screenplay-for-film-or-television",
         "write,a,feature,length,screenplay,for,film,or,televisionbeginnerwrite,a,full,length,feature,film,script,in,this,course,you,will,write,a,complete,feature-length,screenplay,for,film,or,television,be,it,a,serious,drama,or,romantic,comedy,or,anything,in,between.,you�ll,learn,to,break,down,the,creative,process,into,components,and,you�ll,discover,a,structured,process,that,allows,you,to,produce,a,polished,and,pitch-ready,script,by,the,end,of,the,course.,completing,this,project,will,increase,your,confidence,in,your,ideas,and,abilities,and,you�ll,feel,prepared,to,pitch,your,first,script,and,get,started,on,your,next.,this,is,a,course,designed,to,tap,into,your,creativity,and,is,based,in,\"active,learning\".,most,of,the,actual,learning,takes,place,within,your,own,activities,-,that,is,writing!,you,will,learn,by,doing.,here,is,a,link,to,a,trailer,for,the,course.,to,view,the,trailer,please,copy,and,paste,the,link,into,your,browser.,https//vimeo.com/382067900/b78b800dc0,learner,review,\"love,the,approach,professor,wheeler,takes,towards,this,course.,it's,to,the,point,easy,to,follow,and,very,informative!,would,definitely,recommend,it,to,anyone,who,is,interested,in,taking,a,screenplay,writing,course!,the,course,curriculum,is,simple,we,will,adopt,a,professional,writers,room,process,in,which,you�ll,write,post,your,work,for,peer,review,share,feedback,with,your,peers,and,revise,your,work,with,the,feedback,you,receive,from,your,peers.,that's,how,we,do,it,in,the,real,world.,you,will,feel,as,if,you,were,in,a,professional,writers,room,yet,no,prior,experience,as,a,writer,is,required.,i'm,a,proponent,of,experiential,learning,active,learning.,my,lectures,are,short,sometimes,just,two,minutes,long,and,to,the,point,designed,in,a,step-by-step,process,essential,to,your,success,as,a,script,writer.,i,will,guide,you,but,i,won�t,\"show\",you,how,to,write.,i,firmly,believe,that,the,only,way,to,become,a,writer,is,to,write,write,write.,learner,review,\"i,would,like,to,thank,this,course,instructor.,it's,an,amazing,course\",what,you�ll,need,to,get,started,as,mentioned,above,no,prior,script,writing,experience,is,required.,to,begin,with,any,basic,word,processor,will,do.,during,week,two,you,can,choose,to,download,some,free,scriptwriting,software,such,as,celtx,or,trelby,or,you,may,choose,to,purchase,final,draft,the,industry,standard,or,you,can,continue,to,use,your,word,processor,and,do,your,own,script,formatting.,,learner,review,\"now,i,am,a,writer!\",if,you,have,any,concerns,regarding,the,protection,of,your,original,work,coursera's,privacy,policy,protects,the,learner's,ip,and,you,are,indeed,the,sole,owners,of,your,work.drama  comedy  peering  screenwriting  film  document review  dialogue  creative writing  writing  unix shells arts-and-humanities music-and-art"
        ],
        [
         "1",
         "Business Strategy Business Model Canvas Analysis with Miro",
         "https://www.coursera.org/learn/canvas-analysis-miro",
         "business,strategy,business,model,canvas,analysis,with,mirobeginnerby,the,end,of,this,guided,project,you,will,be,fluent,in,identifying,and,creating,business,model,canvas,solutions,based,on,previous,high-level,analyses,and,research,data.,this,will,enable,you,to,identify,and,map,the,elements,required,for,new,products,and,services.,furthermore,it,is,essential,for,generating,positive,results,for,your,business,venture.,this,guided,project,is,designed,to,engage,and,harness,your,visionary,and,exploratory,abilities.,you,will,use,proven,models,in,strategy,and,product,development,with,the,miro,platform,to,explore,and,analyse,your,business,propositions.,,we,will,practice,critically,examining,results,from,previous,analysis,and,research,results,in,deriving,the,values,for,each,of,the,business,model,sections.finance  business plan  persona user experience  business model canvas  planning  business  project  product development  presentation  strategy business business-strategy"
        ],
        [
         "2",
         "Silicon Thin Film Solar Cells",
         "https://www.coursera.org/learn/silicon-thin-film-solar-cells",
         "silicon,thin,film,solar,cellsadvancedthis,course,consists,of,a,general,presentation,of,solar,cells,based,on,silicon,thin,films.,,it,is,the,third,mooc,of,the,photovoltaic,series,of,ecole,polytechnique,on,coursera.,the,general,aspects,of,the,photovoltaic,field,are,treated,in,\"photovoltaic,solar,energy\".,and,the,detailed,description,of,the,crystalline,silicon,solar,cells,can,be,found,in,\"physics,of,silicon,solar,cells\".,after,a,brief,presentation,of,solar,cells,operation,thin,film,semiconductors,are,described,here.,the,general,properties,of,disordered,and,crystalline,semiconductors,are,found,very,different,in,particular,in,terms,of,band,structure,and,doping,mechanisms.,silicon,thin,films,generally,less,than,1,�m,thick,are,deposited,from,silane,plasma,leading,to,hydrogen,incorporation.,the,growth,mechanisms,are,discussed,in,particular,the,capability,to,prepare,partially,crystallized,thin,films,which,appear,as,a,mixture,of,nanocrystallites,embedded,in,an,amorphous,tissue.,the,consequences,of,the,semiconductor,properties,on,solar,cells,behavior,are,reviewed.,the,optical,properties,of,amorphous,and,nanocrystalline,silicon,are,complementary.,thus,the,plasma,process,is,particularly,well,adapted,to,the,preparation,of,multijunctions,with,conversion,efficiencies,around,13-15,%.,furthermore,plasma,processes,allow,to,prepare,solar,cells,in,large,area,on,glass,or,flexible,substrates.,finally,it,is,shown,that,crystalline,and,amorphous,silicon,materials,can,be,combine,into,heterojunctions,solar,cells,with,high,efficiency,conversion,about,25,%.,**this,course,is,part,of,a,series,of,3**,photovoltaic,solar,energy,https//www.coursera.org/learn/photovoltaic-solar-energy/,physics,of,silicon,solar,cells,https//www.coursera.org/learn/physics-silicon-solar-cells/,silicon,thin,film,solar,cellschemistry  physics  solar energy  film  lambda calculus  electrical engineering  electronics  energy  silicon  thinning physical-science-and-engineering electrical-engineering"
        ],
        [
         "3",
         "Finance for Managers",
         "https://www.coursera.org/learn/operational-finance",
         "finance,for,managersintermediatewhen,it,comes,to,numbers,there,is,always,more,than,meets,the,eye.,in,operational,finance,you,will,learn,how,to,read,the,�story�,that,the,balance,sheet,and,income,statement,tells,about,the,company�s,operations.,the,insights,you,gain,from,this,�financial,story�,will,then,become,a,tool,for,short-term,decision-making,at,the,top,management,level,relating,to,current,assets,current,liabilities,and,the,management,of,working,capital.,finally,by,the,end,of,the,course,you,will,understand,the,financial,consequences,of,managerial,decisions,on,operations,marketing,etc.accounts receivable  dupont analysis  analysis  accounting  finance  operations management  leadership and management  balance sheet  inventory  financial analysis business finance"
        ],
        [
         "4",
         "Retrieve Data using Single-Table SQL Queries",
         "https://www.coursera.org/learn/single-table-sql-queries",
         "retrieve,data,using,single-table,sql,queriesbeginnerin,this,course,you�ll,learn,how,to,effectively,retrieve,data,from,a,relational,database,table,using,the,sql,language.,,we,all,know,that,most,computer,systems,rely,on,at,least,one,database,to,store,data.,your,tax,information,is,stored,in,the,database,used,by,the,internal,revenue,service.,your,phone,stores,your,contacts�,,names,addresses,email,addresses,and,phone,numbers,in,a,database.,if,you,shop,online,you�re,viewing,photos,descriptions,and,prices,of,products,that,are,stored,in,a,database.,database,designers,go,to,great,lengths,to,design,databases,so,that,the,data,can,be,stored,securely,and,in,an,organized,format.,it�s,important,to,note,that,the,main,reason,they,go,to,all,that,work,is,so,that,we,can,get,the,data,back,out,again,when,we,need,it!,that�s,called,�data,retrieval�.,,data,is,retrieved,or,read,from,a,relational,database,by,using,a,language,called,sql,to,query,or,question,the,database.,sql,is,referred,to,as,�the,language,of,relational,databases�.,it,can,be,used,by,itself,or,embedded,in,programs,to,retrieve,data.,once,the,data,is,retrieved,it,can,be,displayed,on,a,web,page,or,pc,application,or,even,printed,on,paper.,,you�ll,be,practicing,writing,sql,queries,using,sqlitestudio.,,next,time,you,go,online,and,look,up,the,daily,special,at,your,favorite,restaurant,you,can,think,about,the,fact,that,it�s,likely,that,an,sql,query,was,used,behind,the,scenes,to,fetch,that,data,and,pop,it,up,on,your,screen.,by,the,end,of,this,course,you�ll,even,have,a,pretty,good,idea,what,the,query,might,have,looked,like!,note,this,course,works,best,for,learners,who,are,based,in,the,north,america,region.,we�re,currently,working,on,providing,the,same,experience,in,other,regions.data analysis  select sql  database management systems  online shopping  table database  data retrieval  databases  web page  numbers spreadsheet  sql information-technology data-management"
        ]
       ],
       "shape": {
        "columns": 3,
        "rows": 5
       }
      },
      "text/html": [
       "<div>\n",
       "<style scoped>\n",
       "    .dataframe tbody tr th:only-of-type {\n",
       "        vertical-align: middle;\n",
       "    }\n",
       "\n",
       "    .dataframe tbody tr th {\n",
       "        vertical-align: top;\n",
       "    }\n",
       "\n",
       "    .dataframe thead th {\n",
       "        text-align: right;\n",
       "    }\n",
       "</style>\n",
       "<table border=\"1\" class=\"dataframe\">\n",
       "  <thead>\n",
       "    <tr style=\"text-align: right;\">\n",
       "      <th></th>\n",
       "      <th>course_name</th>\n",
       "      <th>course_url</th>\n",
       "      <th>tags</th>\n",
       "    </tr>\n",
       "  </thead>\n",
       "  <tbody>\n",
       "    <tr>\n",
       "      <th>0</th>\n",
       "      <td>Write A Feature Length Screenplay For Film Or ...</td>\n",
       "      <td>https://www.coursera.org/learn/write-a-feature...</td>\n",
       "      <td>write,a,feature,length,screenplay,for,film,or,...</td>\n",
       "    </tr>\n",
       "    <tr>\n",
       "      <th>1</th>\n",
       "      <td>Business Strategy Business Model Canvas Analys...</td>\n",
       "      <td>https://www.coursera.org/learn/canvas-analysis...</td>\n",
       "      <td>business,strategy,business,model,canvas,analys...</td>\n",
       "    </tr>\n",
       "    <tr>\n",
       "      <th>2</th>\n",
       "      <td>Silicon Thin Film Solar Cells</td>\n",
       "      <td>https://www.coursera.org/learn/silicon-thin-fi...</td>\n",
       "      <td>silicon,thin,film,solar,cellsadvancedthis,cour...</td>\n",
       "    </tr>\n",
       "    <tr>\n",
       "      <th>3</th>\n",
       "      <td>Finance for Managers</td>\n",
       "      <td>https://www.coursera.org/learn/operational-fin...</td>\n",
       "      <td>finance,for,managersintermediatewhen,it,comes,...</td>\n",
       "    </tr>\n",
       "    <tr>\n",
       "      <th>4</th>\n",
       "      <td>Retrieve Data using Single-Table SQL Queries</td>\n",
       "      <td>https://www.coursera.org/learn/single-table-sq...</td>\n",
       "      <td>retrieve,data,using,single-table,sql,queriesbe...</td>\n",
       "    </tr>\n",
       "  </tbody>\n",
       "</table>\n",
       "</div>"
      ],
      "text/plain": [
       "                                         course_name  \\\n",
       "0  Write A Feature Length Screenplay For Film Or ...   \n",
       "1  Business Strategy Business Model Canvas Analys...   \n",
       "2                      Silicon Thin Film Solar Cells   \n",
       "3                               Finance for Managers   \n",
       "4       Retrieve Data using Single-Table SQL Queries   \n",
       "\n",
       "                                          course_url  \\\n",
       "0  https://www.coursera.org/learn/write-a-feature...   \n",
       "1  https://www.coursera.org/learn/canvas-analysis...   \n",
       "2  https://www.coursera.org/learn/silicon-thin-fi...   \n",
       "3  https://www.coursera.org/learn/operational-fin...   \n",
       "4  https://www.coursera.org/learn/single-table-sq...   \n",
       "\n",
       "                                                tags  \n",
       "0  write,a,feature,length,screenplay,for,film,or,...  \n",
       "1  business,strategy,business,model,canvas,analys...  \n",
       "2  silicon,thin,film,solar,cellsadvancedthis,cour...  \n",
       "3  finance,for,managersintermediatewhen,it,comes,...  \n",
       "4  retrieve,data,using,single-table,sql,queriesbe...  "
      ]
     },
     "execution_count": 181,
     "metadata": {},
     "output_type": "execute_result"
    }
   ],
   "source": [
    "new_df.head()"
   ]
  },
  {
   "cell_type": "code",
   "execution_count": 182,
   "id": "ccfdd8ae",
   "metadata": {},
   "outputs": [
    {
     "data": {
      "text/plain": [
       "(3522, 3)"
      ]
     },
     "execution_count": 182,
     "metadata": {},
     "output_type": "execute_result"
    }
   ],
   "source": [
    "new_df.shape"
   ]
  },
  {
   "cell_type": "code",
   "execution_count": 183,
   "id": "7b0764b1",
   "metadata": {},
   "outputs": [],
   "source": [
    "from sklearn.feature_extraction.text import CountVectorizer"
   ]
  },
  {
   "cell_type": "code",
   "execution_count": 184,
   "id": "00d0025a",
   "metadata": {},
   "outputs": [],
   "source": [
    "cv = CountVectorizer(max_features=5000, stop_words='english')"
   ]
  },
  {
   "cell_type": "code",
   "execution_count": 185,
   "id": "991c8172",
   "metadata": {},
   "outputs": [],
   "source": [
    "vectors = cv.fit_transform(new_df['tags']).toarray()"
   ]
  },
  {
   "cell_type": "code",
   "execution_count": 186,
   "id": "19202cfb",
   "metadata": {},
   "outputs": [
    {
     "data": {
      "text/plain": [
       "array([0, 0, 0, ..., 0, 0, 0], shape=(5000,))"
      ]
     },
     "execution_count": 186,
     "metadata": {},
     "output_type": "execute_result"
    }
   ],
   "source": [
    "vectors[0]"
   ]
  },
  {
   "cell_type": "code",
   "execution_count": 187,
   "id": "900437d1",
   "metadata": {},
   "outputs": [],
   "source": [
    "import nltk\n",
    "from nltk.stem.porter import PorterStemmer"
   ]
  },
  {
   "cell_type": "code",
   "execution_count": 188,
   "id": "15aa9ab4",
   "metadata": {},
   "outputs": [],
   "source": [
    "ps = PorterStemmer()"
   ]
  },
  {
   "cell_type": "code",
   "execution_count": 189,
   "id": "627772f1",
   "metadata": {},
   "outputs": [],
   "source": [
    "def stem(text):\n",
    "    y = []\n",
    "    for i in text.split():\n",
    "        y.append(ps.stem(i))\n",
    "\n",
    "    return \" \".join(y)"
   ]
  },
  {
   "cell_type": "code",
   "execution_count": 190,
   "id": "e45e22f2",
   "metadata": {},
   "outputs": [
    {
     "name": "stderr",
     "output_type": "stream",
     "text": [
      "C:\\Users\\anoop\\AppData\\Local\\Temp\\ipykernel_13276\\3213734980.py:1: SettingWithCopyWarning: \n",
      "A value is trying to be set on a copy of a slice from a DataFrame.\n",
      "Try using .loc[row_indexer,col_indexer] = value instead\n",
      "\n",
      "See the caveats in the documentation: https://pandas.pydata.org/pandas-docs/stable/user_guide/indexing.html#returning-a-view-versus-a-copy\n",
      "  new_df['tags'] = new_df['tags'].apply(stem)\n"
     ]
    }
   ],
   "source": [
    "new_df['tags'] = new_df['tags'].apply(stem)"
   ]
  },
  {
   "cell_type": "code",
   "execution_count": 191,
   "id": "317ba32b",
   "metadata": {},
   "outputs": [],
   "source": [
    "from sklearn.metrics.pairwise import cosine_similarity"
   ]
  },
  {
   "cell_type": "code",
   "execution_count": 192,
   "id": "b45f0d6d",
   "metadata": {},
   "outputs": [],
   "source": [
    "similarity = cosine_similarity(vectors)"
   ]
  },
  {
   "cell_type": "code",
   "execution_count": 193,
   "id": "1c9733cc",
   "metadata": {},
   "outputs": [],
   "source": [
    "def recommend(course):\n",
    "    course_index = new_df[new_df['course_name'] == course].index[0]\n",
    "    distance = similarity[course_index]\n",
    "    course_list = sorted(list(enumerate(distance)), reverse = True, key = lambda x:x[1])[1:7]\n",
    "    \n",
    "    recommended_courses = []\n",
    "    for i in course_list:\n",
    "        course_name = new_df.iloc[i[0]].course_name\n",
    "        course_url = new_df.iloc[i[0]].course_url\n",
    "        recommended_courses.append({'name': course_name, 'url': course_url})\n",
    "    return recommended_courses "
   ]
  },
  {
   "cell_type": "code",
   "execution_count": 194,
   "id": "cbaf8f90",
   "metadata": {},
   "outputs": [
    {
     "data": {
      "application/vnd.microsoft.datawrangler.viewer.v0+json": {
       "columns": [
        {
         "name": "index",
         "rawType": "int64",
         "type": "integer"
        },
        {
         "name": "course_name",
         "rawType": "object",
         "type": "string"
        },
        {
         "name": "course_url",
         "rawType": "object",
         "type": "string"
        },
        {
         "name": "tags",
         "rawType": "object",
         "type": "string"
        }
       ],
       "conversionMethod": "pd.DataFrame",
       "ref": "b671076a-48c7-4c82-9eec-564a6abc14e3",
       "rows": [
        [
         "0",
         "Write A Feature Length Screenplay For Film Or Television",
         "https://www.coursera.org/learn/write-a-feature-length-screenplay-for-film-or-television",
         "write,a,feature,length,screenplay,for,film,or,televisionbeginnerwrite,a,full,length,feature,film,script,in,this,course,you,will,write,a,complete,feature-length,screenplay,for,film,or,television,be,it,a,serious,drama,or,romantic,comedy,or,anything,in,between.,you�ll,learn,to,break,down,the,creative,process,into,components,and,you�ll,discover,a,structured,process,that,allows,you,to,produce,a,polished,and,pitch-ready,script,by,the,end,of,the,course.,completing,this,project,will,increase,your,confidence,in,your,ideas,and,abilities,and,you�ll,feel,prepared,to,pitch,your,first,script,and,get,started,on,your,next.,this,is,a,course,designed,to,tap,into,your,creativity,and,is,based,in,\"active,learning\".,most,of,the,actual,learning,takes,place,within,your,own,activities,-,that,is,writing!,you,will,learn,by,doing.,here,is,a,link,to,a,trailer,for,the,course.,to,view,the,trailer,please,copy,and,paste,the,link,into,your,browser.,https//vimeo.com/382067900/b78b800dc0,learner,review,\"love,the,approach,professor,wheeler,takes,towards,this,course.,it's,to,the,point,easy,to,follow,and,very,informative!,would,definitely,recommend,it,to,anyone,who,is,interested,in,taking,a,screenplay,writing,course!,the,course,curriculum,is,simple,we,will,adopt,a,professional,writers,room,process,in,which,you�ll,write,post,your,work,for,peer,review,share,feedback,with,your,peers,and,revise,your,work,with,the,feedback,you,receive,from,your,peers.,that's,how,we,do,it,in,the,real,world.,you,will,feel,as,if,you,were,in,a,professional,writers,room,yet,no,prior,experience,as,a,writer,is,required.,i'm,a,proponent,of,experiential,learning,active,learning.,my,lectures,are,short,sometimes,just,two,minutes,long,and,to,the,point,designed,in,a,step-by-step,process,essential,to,your,success,as,a,script,writer.,i,will,guide,you,but,i,won�t,\"show\",you,how,to,write.,i,firmly,believe,that,the,only,way,to,become,a,writer,is,to,write,write,write.,learner,review,\"i,would,like,to,thank,this,course,instructor.,it's,an,amazing,course\",what,you�ll,need,to,get,started,as,mentioned,above,no,prior,script,writing,experience,is,required.,to,begin,with,any,basic,word,processor,will,do.,during,week,two,you,can,choose,to,download,some,free,scriptwriting,software,such,as,celtx,or,trelby,or,you,may,choose,to,purchase,final,draft,the,industry,standard,or,you,can,continue,to,use,your,word,processor,and,do,your,own,script,formatting.,,learner,review,\"now,i,am,a,writer!\",if,you,have,any,concerns,regarding,the,protection,of,your,original,work,coursera's,privacy,policy,protects,the,learner's,ip,and,you,are,indeed,the,sole,owners,of,your,work.drama comedi peer screenwrit film document review dialogu creativ write write unix shell arts-and-human music-and-art"
        ],
        [
         "1",
         "Business Strategy Business Model Canvas Analysis with Miro",
         "https://www.coursera.org/learn/canvas-analysis-miro",
         "business,strategy,business,model,canvas,analysis,with,mirobeginnerby,the,end,of,this,guided,project,you,will,be,fluent,in,identifying,and,creating,business,model,canvas,solutions,based,on,previous,high-level,analyses,and,research,data.,this,will,enable,you,to,identify,and,map,the,elements,required,for,new,products,and,services.,furthermore,it,is,essential,for,generating,positive,results,for,your,business,venture.,this,guided,project,is,designed,to,engage,and,harness,your,visionary,and,exploratory,abilities.,you,will,use,proven,models,in,strategy,and,product,development,with,the,miro,platform,to,explore,and,analyse,your,business,propositions.,,we,will,practice,critically,examining,results,from,previous,analysis,and,research,results,in,deriving,the,values,for,each,of,the,business,model,sections.fin busi plan persona user experi busi model canva plan busi project product develop present strategi busi business-strategi"
        ],
        [
         "2",
         "Silicon Thin Film Solar Cells",
         "https://www.coursera.org/learn/silicon-thin-film-solar-cells",
         "silicon,thin,film,solar,cellsadvancedthis,course,consists,of,a,general,presentation,of,solar,cells,based,on,silicon,thin,films.,,it,is,the,third,mooc,of,the,photovoltaic,series,of,ecole,polytechnique,on,coursera.,the,general,aspects,of,the,photovoltaic,field,are,treated,in,\"photovoltaic,solar,energy\".,and,the,detailed,description,of,the,crystalline,silicon,solar,cells,can,be,found,in,\"physics,of,silicon,solar,cells\".,after,a,brief,presentation,of,solar,cells,operation,thin,film,semiconductors,are,described,here.,the,general,properties,of,disordered,and,crystalline,semiconductors,are,found,very,different,in,particular,in,terms,of,band,structure,and,doping,mechanisms.,silicon,thin,films,generally,less,than,1,�m,thick,are,deposited,from,silane,plasma,leading,to,hydrogen,incorporation.,the,growth,mechanisms,are,discussed,in,particular,the,capability,to,prepare,partially,crystallized,thin,films,which,appear,as,a,mixture,of,nanocrystallites,embedded,in,an,amorphous,tissue.,the,consequences,of,the,semiconductor,properties,on,solar,cells,behavior,are,reviewed.,the,optical,properties,of,amorphous,and,nanocrystalline,silicon,are,complementary.,thus,the,plasma,process,is,particularly,well,adapted,to,the,preparation,of,multijunctions,with,conversion,efficiencies,around,13-15,%.,furthermore,plasma,processes,allow,to,prepare,solar,cells,in,large,area,on,glass,or,flexible,substrates.,finally,it,is,shown,that,crystalline,and,amorphous,silicon,materials,can,be,combine,into,heterojunctions,solar,cells,with,high,efficiency,conversion,about,25,%.,**this,course,is,part,of,a,series,of,3**,photovoltaic,solar,energy,https//www.coursera.org/learn/photovoltaic-solar-energy/,physics,of,silicon,solar,cells,https//www.coursera.org/learn/physics-silicon-solar-cells/,silicon,thin,film,solar,cellschemistri physic solar energi film lambda calculu electr engin electron energi silicon thin physical-science-and-engin electrical-engin"
        ],
        [
         "3",
         "Finance for Managers",
         "https://www.coursera.org/learn/operational-finance",
         "finance,for,managersintermediatewhen,it,comes,to,numbers,there,is,always,more,than,meets,the,eye.,in,operational,finance,you,will,learn,how,to,read,the,�story�,that,the,balance,sheet,and,income,statement,tells,about,the,company�s,operations.,the,insights,you,gain,from,this,�financial,story�,will,then,become,a,tool,for,short-term,decision-making,at,the,top,management,level,relating,to,current,assets,current,liabilities,and,the,management,of,working,capital.,finally,by,the,end,of,the,course,you,will,understand,the,financial,consequences,of,managerial,decisions,on,operations,marketing,etc.account receiv dupont analysi analysi account financ oper manag leadership and manag balanc sheet inventori financi analysi busi financ"
        ],
        [
         "4",
         "Retrieve Data using Single-Table SQL Queries",
         "https://www.coursera.org/learn/single-table-sql-queries",
         "retrieve,data,using,single-table,sql,queriesbeginnerin,this,course,you�ll,learn,how,to,effectively,retrieve,data,from,a,relational,database,table,using,the,sql,language.,,we,all,know,that,most,computer,systems,rely,on,at,least,one,database,to,store,data.,your,tax,information,is,stored,in,the,database,used,by,the,internal,revenue,service.,your,phone,stores,your,contacts�,,names,addresses,email,addresses,and,phone,numbers,in,a,database.,if,you,shop,online,you�re,viewing,photos,descriptions,and,prices,of,products,that,are,stored,in,a,database.,database,designers,go,to,great,lengths,to,design,databases,so,that,the,data,can,be,stored,securely,and,in,an,organized,format.,it�s,important,to,note,that,the,main,reason,they,go,to,all,that,work,is,so,that,we,can,get,the,data,back,out,again,when,we,need,it!,that�s,called,�data,retrieval�.,,data,is,retrieved,or,read,from,a,relational,database,by,using,a,language,called,sql,to,query,or,question,the,database.,sql,is,referred,to,as,�the,language,of,relational,databases�.,it,can,be,used,by,itself,or,embedded,in,programs,to,retrieve,data.,once,the,data,is,retrieved,it,can,be,displayed,on,a,web,page,or,pc,application,or,even,printed,on,paper.,,you�ll,be,practicing,writing,sql,queries,using,sqlitestudio.,,next,time,you,go,online,and,look,up,the,daily,special,at,your,favorite,restaurant,you,can,think,about,the,fact,that,it�s,likely,that,an,sql,query,was,used,behind,the,scenes,to,fetch,that,data,and,pop,it,up,on,your,screen.,by,the,end,of,this,course,you�ll,even,have,a,pretty,good,idea,what,the,query,might,have,looked,like!,note,this,course,works,best,for,learners,who,are,based,in,the,north,america,region.,we�re,currently,working,on,providing,the,same,experience,in,other,regions.data analysi select sql databas manag system onlin shop tabl databas data retriev databas web page number spreadsheet sql information-technolog data-manag"
        ]
       ],
       "shape": {
        "columns": 3,
        "rows": 5
       }
      },
      "text/html": [
       "<div>\n",
       "<style scoped>\n",
       "    .dataframe tbody tr th:only-of-type {\n",
       "        vertical-align: middle;\n",
       "    }\n",
       "\n",
       "    .dataframe tbody tr th {\n",
       "        vertical-align: top;\n",
       "    }\n",
       "\n",
       "    .dataframe thead th {\n",
       "        text-align: right;\n",
       "    }\n",
       "</style>\n",
       "<table border=\"1\" class=\"dataframe\">\n",
       "  <thead>\n",
       "    <tr style=\"text-align: right;\">\n",
       "      <th></th>\n",
       "      <th>course_name</th>\n",
       "      <th>course_url</th>\n",
       "      <th>tags</th>\n",
       "    </tr>\n",
       "  </thead>\n",
       "  <tbody>\n",
       "    <tr>\n",
       "      <th>0</th>\n",
       "      <td>Write A Feature Length Screenplay For Film Or ...</td>\n",
       "      <td>https://www.coursera.org/learn/write-a-feature...</td>\n",
       "      <td>write,a,feature,length,screenplay,for,film,or,...</td>\n",
       "    </tr>\n",
       "    <tr>\n",
       "      <th>1</th>\n",
       "      <td>Business Strategy Business Model Canvas Analys...</td>\n",
       "      <td>https://www.coursera.org/learn/canvas-analysis...</td>\n",
       "      <td>business,strategy,business,model,canvas,analys...</td>\n",
       "    </tr>\n",
       "    <tr>\n",
       "      <th>2</th>\n",
       "      <td>Silicon Thin Film Solar Cells</td>\n",
       "      <td>https://www.coursera.org/learn/silicon-thin-fi...</td>\n",
       "      <td>silicon,thin,film,solar,cellsadvancedthis,cour...</td>\n",
       "    </tr>\n",
       "    <tr>\n",
       "      <th>3</th>\n",
       "      <td>Finance for Managers</td>\n",
       "      <td>https://www.coursera.org/learn/operational-fin...</td>\n",
       "      <td>finance,for,managersintermediatewhen,it,comes,...</td>\n",
       "    </tr>\n",
       "    <tr>\n",
       "      <th>4</th>\n",
       "      <td>Retrieve Data using Single-Table SQL Queries</td>\n",
       "      <td>https://www.coursera.org/learn/single-table-sq...</td>\n",
       "      <td>retrieve,data,using,single-table,sql,queriesbe...</td>\n",
       "    </tr>\n",
       "  </tbody>\n",
       "</table>\n",
       "</div>"
      ],
      "text/plain": [
       "                                         course_name  \\\n",
       "0  Write A Feature Length Screenplay For Film Or ...   \n",
       "1  Business Strategy Business Model Canvas Analys...   \n",
       "2                      Silicon Thin Film Solar Cells   \n",
       "3                               Finance for Managers   \n",
       "4       Retrieve Data using Single-Table SQL Queries   \n",
       "\n",
       "                                          course_url  \\\n",
       "0  https://www.coursera.org/learn/write-a-feature...   \n",
       "1  https://www.coursera.org/learn/canvas-analysis...   \n",
       "2  https://www.coursera.org/learn/silicon-thin-fi...   \n",
       "3  https://www.coursera.org/learn/operational-fin...   \n",
       "4  https://www.coursera.org/learn/single-table-sq...   \n",
       "\n",
       "                                                tags  \n",
       "0  write,a,feature,length,screenplay,for,film,or,...  \n",
       "1  business,strategy,business,model,canvas,analys...  \n",
       "2  silicon,thin,film,solar,cellsadvancedthis,cour...  \n",
       "3  finance,for,managersintermediatewhen,it,comes,...  \n",
       "4  retrieve,data,using,single-table,sql,queriesbe...  "
      ]
     },
     "execution_count": 194,
     "metadata": {},
     "output_type": "execute_result"
    }
   ],
   "source": [
    "new_df.head()"
   ]
  },
  {
   "cell_type": "code",
   "execution_count": 195,
   "id": "194333ec",
   "metadata": {},
   "outputs": [
    {
     "data": {
      "text/plain": [
       "[{'name': 'Creating Database Tables with SQL',\n",
       "  'url': 'https://www.coursera.org/learn/creating-database-tables-with-sql'},\n",
       " {'name': 'Manipulating Data with SQL',\n",
       "  'url': 'https://www.coursera.org/learn/manipulating-data-with-sql'},\n",
       " {'name': 'Create Relational Database Tables Using SQLiteStudio',\n",
       "  'url': 'https://www.coursera.org/learn/create-relational-database-table-sqlitestudio'},\n",
       " {'name': 'Retrieve Data with Multiple-Table SQL Queries',\n",
       "  'url': 'https://www.coursera.org/learn/multiple-table-sql-queries'},\n",
       " {'name': 'Advanced SQL Retrieval Queries in SQLiteStudio',\n",
       "  'url': 'https://www.coursera.org/learn/Advanced-sql-retrieval-queries-in-sqlitestudio'},\n",
       " {'name': 'Relational Database Support for Data Warehouses',\n",
       "  'url': 'https://www.coursera.org/learn/dwrelational'}]"
      ]
     },
     "execution_count": 195,
     "metadata": {},
     "output_type": "execute_result"
    }
   ],
   "source": [
    "recommend(\"Retrieve Data using Single-Table SQL Queries\")"
   ]
  },
  {
   "cell_type": "code",
   "execution_count": 196,
   "id": "a03f0cfb",
   "metadata": {},
   "outputs": [],
   "source": [
    "import pickle"
   ]
  },
  {
   "cell_type": "code",
   "execution_count": 197,
   "id": "9bc03861",
   "metadata": {},
   "outputs": [],
   "source": [
    "pickle.dump(similarity, open(\"models/similarity.pkl\", \"wb\"))\n",
    "pickle.dump(new_df[['course_name', 'course_url']].to_dict('records'), open(\"models/course_list.pkl\", \"wb\"))\n",
    "pickle.dump(new_df[['course_name', 'course_url']], open(\"models/courses.pkl\", \"wb\"))"
   ]
  },
  {
   "cell_type": "code",
   "execution_count": null,
   "id": "ce7cbda0",
   "metadata": {},
   "outputs": [],
   "source": []
  }
 ],
 "metadata": {
  "kernelspec": {
   "display_name": "Python 3",
   "language": "python",
   "name": "python3"
  },
  "language_info": {
   "codemirror_mode": {
    "name": "ipython",
    "version": 3
   },
   "file_extension": ".py",
   "mimetype": "text/x-python",
   "name": "python",
   "nbconvert_exporter": "python",
   "pygments_lexer": "ipython3",
   "version": "3.10.0"
  }
 },
 "nbformat": 4,
 "nbformat_minor": 5
}
